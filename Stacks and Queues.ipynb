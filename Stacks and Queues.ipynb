{
 "cells": [
  {
   "cell_type": "markdown",
   "metadata": {},
   "source": [
    "<h2>Stacks</h2>"
   ]
  },
  {
   "cell_type": "code",
   "execution_count": 4,
   "metadata": {},
   "outputs": [
    {
     "name": "stdout",
     "output_type": "stream",
     "text": [
      "15\n",
      "Size of stack is :  6\n",
      "False\n",
      "15\n",
      "12\n",
      "7\n",
      "5\n",
      "4\n",
      "3\n",
      "True\n",
      "Stack is empty\n"
     ]
    }
   ],
   "source": [
    "'''Implementing Stack using array'''\n",
    "class Stack:\n",
    "    def __init__(self):\n",
    "        '''We need to make the stack array private so that other operations such as extracting elemnent\n",
    "        directly through index and changing them is not possible and not disturb our stack\n",
    "        '''\n",
    "        self.__st=[]\n",
    "    def push(self,elem):\n",
    "        self.__st.append(elem)\n",
    "    def pop(self):\n",
    "        if self.isEmpty():\n",
    "            return \"Stack is empty\"\n",
    "            \n",
    "        return self.__st.pop()\n",
    "    def top(self):\n",
    "        if self.isEmpty():\n",
    "            return \"Stack is empty\"\n",
    "        return self.__st[self.size()-1]\n",
    "    def size(self):\n",
    "        return len(self.__st)\n",
    "    def isEmpty(self):\n",
    "        if self.size()==0:\n",
    "            return True\n",
    "        return False\n",
    "Mystack=Stack()\n",
    "Mystack.push(3)\n",
    "Mystack.push(4)\n",
    "Mystack.push(5)\n",
    "Mystack.push(7)\n",
    "Mystack.push(12)\n",
    "Mystack.push(15)\n",
    "print(Mystack.top())\n",
    "print(\"Size of stack is : \",Mystack.size())\n",
    "print(Mystack.isEmpty())\n",
    "while not(Mystack.isEmpty()):\n",
    "    print(Mystack.pop())\n",
    "print(Mystack.isEmpty())\n",
    "print(Mystack.pop())"
   ]
  },
  {
   "cell_type": "code",
   "execution_count": 2,
   "metadata": {},
   "outputs": [
    {
     "name": "stdout",
     "output_type": "stream",
     "text": [
      "10\n",
      "5\n",
      "9\n",
      "9\n",
      "8\n",
      "7\n",
      "4\n",
      "3\n",
      "True\n"
     ]
    }
   ],
   "source": [
    "'''Implementing Stack using Linkedlist'''\n",
    "class Node :\n",
    "    def __init__(self, data) :\n",
    "        self.data = data\n",
    "        self.next = None\n",
    "class Stackll :\n",
    "\n",
    "    def __init__(self):\n",
    "        '''Private variables so cannot be accessed outside '''\n",
    "        self.__head=None\n",
    "        self.__count=0\n",
    "        \n",
    "    def getSize(self) :\n",
    "        return self.__count\n",
    "\n",
    "    def isEmpty(self) :\n",
    "        if self.__count==0:\n",
    "            return True\n",
    "        return False\n",
    "\n",
    "    def push(self, data) :\n",
    "        node=Node(data)\n",
    "        if self.__head==None:\n",
    "            self.__head=node\n",
    "            self.__count+=1\n",
    "        else:\n",
    "            node.next=self.__head\n",
    "            self.__head=node\n",
    "            self.__count+=1\n",
    "\n",
    "\n",
    "    def pop(self) :\n",
    "        if self.__head==None:\n",
    "            return \"Stack is Empty\"\n",
    "        topd=self.__head.data\n",
    "        self.__head=self.__head.next\n",
    "        self.__count-=1\n",
    "        return topd\n",
    "\n",
    "    def top(self) :\n",
    "        if self.__head==None:\n",
    "            return \"Stack is Empty\"\n",
    "        topd=self.__head.data\n",
    "        \n",
    "        return topd\n",
    "\n",
    "s=Stackll()\n",
    "s.push(3)\n",
    "s.push(4)\n",
    "s.push(7)\n",
    "s.push(8)\n",
    "s.push(9)\n",
    "s.push(10)\n",
    "print(s.pop())\n",
    "print(s.getSize())  \n",
    "print(s.top())\n",
    "while not(s.isEmpty()):\n",
    "    print(s.pop())\n",
    "print(s.isEmpty())"
   ]
  },
  {
   "cell_type": "code",
   "execution_count": 3,
   "metadata": {},
   "outputs": [
    {
     "name": "stdout",
     "output_type": "stream",
     "text": [
      "()))(\n",
      "not balanced\n"
     ]
    }
   ],
   "source": [
    "'''Parenthesis representation balancing'''\n",
    "def isBalanced(exp) :\n",
    "    stack=[]\n",
    "    for i in exp:\n",
    "        if i=='(':\n",
    "            stack.append(i)\n",
    "        elif i==')' and len(stack)==0:\n",
    "            return 0\n",
    "        elif i==')':\n",
    "            k=stack.pop()\n",
    "    if len(stack)==0:\n",
    "        return 1\n",
    "    return 0\n",
    "exp=input()\n",
    "if isBalanced(exp):\n",
    "    print(\"Balanced\")\n",
    "else:\n",
    "    print(\"not balanced\")"
   ]
  },
  {
   "cell_type": "markdown",
   "metadata": {},
   "source": [
    "<p>Balanced version with small modification This time we have three different brackets\n",
    "<a href=\"https://www.hackerrank.com/challenges/balanced-brackets/problem\" >Hackerrank balance bracket problem</a> </p>\n"
   ]
  },
  {
   "cell_type": "code",
   "execution_count": 5,
   "metadata": {},
   "outputs": [
    {
     "name": "stdout",
     "output_type": "stream",
     "text": [
      "2\n",
      "[[))\n",
      "NO\n",
      "[({})][]\n",
      "YES\n"
     ]
    }
   ],
   "source": [
    "def is_Balanced(exp):\n",
    "    # Write your code here\n",
    "    stack=[]\n",
    "    for i in exp:\n",
    "        if i=='(' or i=='[' or i=='{':\n",
    "            stack.append(i)\n",
    "        elif (i=='(' or i=='[' or i=='{') and len(stack)==0:\n",
    "            return 'NO'\n",
    "        elif i==')' and len(stack)!=0 and  stack[-1]=='(':\n",
    "            stack.pop()\n",
    "        elif i==']' and len(stack)!=0 and  stack[-1]=='[':\n",
    "            stack.pop()\n",
    "        elif i=='}' and len(stack)!=0 and  stack[-1]=='{':\n",
    "            stack.pop()\n",
    "        else:\n",
    "            return 'NO'   \n",
    "    if len(stack)==0:\n",
    "        return 'YES'\n",
    "    return 'NO'\n",
    "n=int(input())\n",
    "for i in range(n):\n",
    "    print(is_Balanced(input()))"
   ]
  },
  {
   "cell_type": "code",
   "execution_count": 7,
   "metadata": {},
   "outputs": [
    {
     "name": "stdout",
     "output_type": "stream",
     "text": [
      "[1, 0, 9, 8, 7, 6, 5, 4, 3, 2, 1]\n",
      "1\n",
      "2\n",
      "3\n",
      "4\n",
      "5\n",
      "6\n",
      "7\n",
      "8\n",
      "9\n",
      "0\n",
      "1\n"
     ]
    }
   ],
   "source": [
    "'''Reversing a stack using another stack'''\n",
    "def reverseStack(s1, s2) :\n",
    "\t\n",
    "    if len(s1)<=1:\n",
    "        return\n",
    "    while len(s1)>1:\n",
    "        e=s1.pop()\n",
    "        s2.append(e)\n",
    "    last_e=s1.pop()\n",
    "    while len(s2)!=0:\n",
    "        e=s2.pop()\n",
    "        s1.append(e)\n",
    "    reverseStack(s1,s2)\n",
    "    s1.append(last_e)\n",
    "s1=[1,2,3,4,5,6,7,8,9,0,1]\n",
    "reverseStack(s1,[])\n",
    "print(s1)\n",
    "while len(s1)!=0:\n",
    "    print(s1.pop())\n",
    "    \n",
    "\n",
    "\n",
    "\n"
   ]
  },
  {
   "cell_type": "code",
   "execution_count": 9,
   "metadata": {},
   "outputs": [
    {
     "name": "stdout",
     "output_type": "stream",
     "text": [
      "a+(b)+(c)\n",
      "True\n"
     ]
    }
   ],
   "source": [
    "'''For a given expression in the form of a string, find if there exist any redundant brackets or not.\n",
    "It is given that the expression contains only rounded brackets or parenthesis and the input expression\n",
    "will always be balanced.A pair of the bracket is said to be redundant when a sub-expression is surrounded\n",
    "by unnecessary or needless brackets.\n",
    "Expression: (a+b)+c\n",
    "Since there are no needless brackets, hence, the output must be 'false'.\n",
    "Expression: ((a+b))\n",
    "The expression can be reduced to (a+b). Hence the expression has redundant brackets and \n",
    "the output will be 'true'.'''\n",
    "\n",
    "\n",
    "def checkRedundantBrackets(expression) :\n",
    "\t\n",
    "    flag=0\n",
    "    stack=[]\n",
    "    for i in range(len(expression)):\n",
    "        \n",
    "        \n",
    "        if expression[i]=='(':\n",
    "            stack.append( expression[i])\n",
    "            flag=0\n",
    "        elif expression[i]=='+'or expression[i]=='-' or ord(expression[i])==47 or expression[i]=='*':\n",
    "            \n",
    "            if len(stack)!=0 and not(flag==1):\n",
    "                \n",
    "                stack.pop()\n",
    "            flag=1\n",
    "        elif expression[i]==')':\n",
    "            flag=0\n",
    "    \n",
    "    if len(stack)==0:\n",
    "        return False\n",
    "    else:\n",
    "        return True\n",
    "\n",
    "\n",
    "#If it contains reluctant brackets return True else false\n",
    "expression = input()\n",
    "print(checkRedundantBrackets(expression))\n"
   ]
  },
  {
   "cell_type": "code",
   "execution_count": 10,
   "metadata": {},
   "outputs": [
    {
     "name": "stdout",
     "output_type": "stream",
     "text": [
      "100 70 50 80 90 20 200\n",
      "[1, 1, 1, 3, 4, 1, 7]\n"
     ]
    }
   ],
   "source": [
    "def stockSpan(price, n) :\n",
    "\t\n",
    "    n = len(price)\n",
    "    ss = [0]*(n)\n",
    "    stack = []\n",
    "    stack.append(0)\n",
    "    ss[0] = 1\n",
    "    for i in range(1, n):\n",
    "        while len(stack) > 0 and price[stack[-1]] < price[i]:\n",
    "            stack.pop()\n",
    "        if len(stack) <= 0:\n",
    "            ss[i] = i + 1 \n",
    "        else:\n",
    "            ss[i]=(i - stack[-1])\n",
    "        stack.append(i)\n",
    "    return ss\n",
    "l=list(map(int,input().split()))\n",
    "print(stockSpan(l,len(l)))\n",
    "            \n",
    "        "
   ]
  },
  {
   "cell_type": "code",
   "execution_count": 11,
   "metadata": {},
   "outputs": [
    {
     "name": "stdout",
     "output_type": "stream",
     "text": [
      "{{{}}{\n",
      "1\n"
     ]
    }
   ],
   "source": [
    "'''For a given expression in the form of a string, find the minimum number of brackets that can be reversed\n",
    "in order to make the expression balanced. The expression will only contain curly brackets.\n",
    "If the expression can't be balanced, return -1.\n",
    "Example:\n",
    "Expression: {{{{\n",
    "If we reverse the second and the fourth opening brackets, the whole expression will get balanced. \n",
    "Since we have to reverse two brackets to make the expression balanced, the expected output will be 2.\n",
    "\n",
    "Expression: {{{\n",
    "In this example, even if we reverse the last opening bracket, we would be left with the first opening \n",
    "bracket and hence will not be able to make the expression balanced and the output will be -1.'''\n",
    "\n",
    "\n",
    "def countBracketReversals(inputString) :\n",
    "    if len(inputString)%2!=0:\n",
    "        return -1\n",
    "    stack=[]\n",
    "    c=0\n",
    "    for i in inputString:\n",
    "        if i=='{':\n",
    "            stack.append(i)\n",
    "        elif i=='}' and len(stack)==0:\n",
    "            \n",
    "            stack.append(i)\n",
    "        elif i=='}' and len(stack)!=0:\n",
    "            if stack[-1]=='{':\n",
    "                stack.pop()\n",
    "            else:\n",
    "                stack.append(i)\n",
    "    for i in range(len(stack)//2):\n",
    "        c1=stack.pop()\n",
    "        c2=stack.pop()\n",
    "        if c1==c2:\n",
    "            c+=1\n",
    "        else:\n",
    "            c+=2 \n",
    "    return c\n",
    "inputString=input()\n",
    "print(countBracketReversals(inputString))\n"
   ]
  },
  {
   "cell_type": "markdown",
   "metadata": {},
   "source": [
    "<h2>Queues</h2>"
   ]
  },
  {
   "cell_type": "code",
   "execution_count": 12,
   "metadata": {},
   "outputs": [
    {
     "name": "stdout",
     "output_type": "stream",
     "text": [
      "Queue is Full\n",
      "3 4 5 6 7 8 \n",
      "3\n",
      "4\n",
      "5 6 7 8 \n",
      "number of elements in Queue is :  4\n"
     ]
    }
   ],
   "source": [
    "'''Queue implentation using array '''\n",
    "class Queue:\n",
    "    def __init__(self,capacity):\n",
    "        self.capacity=capacity\n",
    "        self.queue=[]\n",
    "        self.front=0\n",
    "        self.end=0\n",
    "    def enqueue(self,value):\n",
    "        if self.isFull():\n",
    "            print(\"Queue is Full\")\n",
    "        else:    \n",
    "            self.queue.append(value)\n",
    "            self.end+=1\n",
    "    def dequeue(self):\n",
    "        if self.isEmpty():\n",
    "            return \"Queue is Empty \"\n",
    "        v=self.queue[self.front]\n",
    "        self.front+=1\n",
    "        return v\n",
    "    def isEmpty(self):\n",
    "        if self.front==self.end:\n",
    "            return True\n",
    "        return False\n",
    "    def isFull(self):\n",
    "        if self. NumberofElements()==self.capacity:\n",
    "            #Queue is Full\n",
    "            return True\n",
    "        return False\n",
    "    def NumberofElements(self):\n",
    "        return self.end-self.front\n",
    "    def display(self):\n",
    "        for i in range(self.front,self.end):\n",
    "            print(self.queue[i],end=\" \")\n",
    "        print(\"\")\n",
    "    \n",
    "#Initialising a Queue with a Capacity of 6   \n",
    "myQueue=Queue(6)\n",
    "myQueue.enqueue(3)\n",
    "myQueue.enqueue(4)\n",
    "myQueue.enqueue(5)\n",
    "myQueue.enqueue(6)\n",
    "myQueue.enqueue(7)\n",
    "myQueue.enqueue(8)\n",
    "myQueue.enqueue(9)\n",
    "myQueue.display()\n",
    "print(myQueue.dequeue())\n",
    "print(myQueue.dequeue())\n",
    "myQueue.display()\n",
    "print(\"number of elements in Queue is : \",myQueue.NumberofElements())"
   ]
  },
  {
   "cell_type": "code",
   "execution_count": 13,
   "metadata": {},
   "outputs": [
    {
     "name": "stdout",
     "output_type": "stream",
     "text": [
      "4 \n",
      "4 8 80 845 \n",
      "Queue is Full\n",
      "4\n"
     ]
    }
   ],
   "source": [
    "'''Queue implementation using Linkedlists '''\n",
    "class Node:\n",
    "    def __init__(self,value):\n",
    "        self.value=value\n",
    "        self.next=None\n",
    "class QueueLL:\n",
    "    def __init__(self,capacity):\n",
    "        self.capacity=capacity\n",
    "        self.__head=None\n",
    "        self.__tail=None\n",
    "        self.__size=0\n",
    "    def Enqueue(self,value):\n",
    "        if not(self.isFull()):\n",
    "            newnode=Node(value)\n",
    "            if self.__head==None:\n",
    "                self.__head=newnode\n",
    "                self.__tail=newnode\n",
    "                self.__size+=1\n",
    "            else:\n",
    "                self.__tail.next=newnode\n",
    "                self.__tail=newnode\n",
    "                self.__size+=1\n",
    "        else:\n",
    "            print(\"Queue is Full\")\n",
    "    def Dequeue(self):\n",
    "        if not(self.isEmpty()):\n",
    "            data=self.__head.value\n",
    "            self.__head=self.__head.next\n",
    "            self.__size-=1\n",
    "            return data\n",
    "        else:\n",
    "            return \"Queue is Empty\"\n",
    "    def isEmpty(self):\n",
    "        if self.__size==0:\n",
    "            return True\n",
    "        return False\n",
    "    def isFull(self):\n",
    "        if self.__size==self.capacity:\n",
    "            return True\n",
    "        return False\n",
    "    def NumberofElements(self):\n",
    "        return self.size\n",
    "    def display(self):\n",
    "        temp=self.__head\n",
    "        \n",
    "        while temp!=self.__tail.next:\n",
    "            print(temp.value,end=\" \")\n",
    "            temp=temp.next\n",
    "        print(\"\")\n",
    "#Initializing a Queue with a Capacity of 6\n",
    "Q=QueueLL(4)\n",
    "Q.Enqueue(4)\n",
    "Q.display() \n",
    "Q.Enqueue(8)\n",
    "Q.Enqueue(80)\n",
    "Q.Enqueue(845)\n",
    "Q.display()    \n",
    "Q.Enqueue(8450)\n",
    "print(Q.Dequeue())\n"
   ]
  },
  {
   "cell_type": "code",
   "execution_count": 14,
   "metadata": {},
   "outputs": [
    {
     "name": "stdout",
     "output_type": "stream",
     "text": [
      "1\n",
      "2\n",
      "3\n",
      "4\n",
      "-------------------\n",
      "4\n",
      "3\n",
      "2\n",
      "1\n"
     ]
    }
   ],
   "source": [
    "'''Standarad Library for implementing Queue directly'''\n",
    "import queue\n",
    "myq=queue.Queue()\n",
    "myq.put(1)\n",
    "myq.put(2)\n",
    "myq.put(3)\n",
    "myq.put(4)\n",
    "while not(myq.empty()):\n",
    "    print(myq.get())\n",
    "print('-------------------')\n",
    "#For stack lifo can be used\n",
    "mq=queue.LifoQueue()\n",
    "mq.put(1)\n",
    "mq.put(2)\n",
    "mq.put(3)\n",
    "mq.put(4)\n",
    "while not(mq.empty()):\n",
    "    print(mq.get())"
   ]
  },
  {
   "cell_type": "code",
   "execution_count": 15,
   "metadata": {},
   "outputs": [
    {
     "name": "stdout",
     "output_type": "stream",
     "text": [
      "1\n",
      "1\n",
      "2\n"
     ]
    }
   ],
   "source": [
    "'''Implementation of a Queue using two stacks'''\n",
    "class Stack:\n",
    "    def __init__(self):\n",
    "        self.s1=[]\n",
    "        self.s2=[]\n",
    "    def getSize(self) :\n",
    "        return len(self.s1)\n",
    "    def isEmpty(self):\n",
    "        if len(self.s1)==0:\n",
    "            return True\n",
    "        return False\n",
    "    def enqueue(self, data) :\n",
    "        self.s1.append(data)\n",
    "    def dequeue(self) :\n",
    "        n=len(self.s1)\n",
    "        if n==0:\n",
    "            return -1\n",
    "        for i in range(n-1):\n",
    "            self.s2.append(self.s1.pop())\n",
    "        val=self.s1.pop()\n",
    "        for i in range(n-1):\n",
    "            self.s1.append(self.s2.pop())\n",
    "        return val\n",
    "    def front(self) :\n",
    "        if self.isEmpty():\n",
    "            return -1\n",
    "        return self.s1[0]\n",
    "s=Stack()\n",
    "s.enqueue(1)\n",
    "s.enqueue(2)\n",
    "s.enqueue(3)\n",
    "print(s.front())\n",
    "print(s.dequeue())\n",
    "print(s.front())"
   ]
  },
  {
   "cell_type": "markdown",
   "metadata": {},
   "source": [
    "<a href=\"https://www.hackerrank.com/challenges/equal-stacks/problem\"> Equal Stacks Problem on HackerRank</a> \n",
    " "
   ]
  },
  {
   "cell_type": "code",
   "execution_count": 26,
   "metadata": {},
   "outputs": [
    {
     "name": "stdout",
     "output_type": "stream",
     "text": [
      "[1, 1, 1, 2] [2, 3] [1, 4]\n",
      "5\n"
     ]
    }
   ],
   "source": [
    "def EqualStacks(h1,h2,h3):\n",
    "    s1=sum(h1)\n",
    "    s2=sum(h2)\n",
    "    s3=sum(h3)\n",
    "    c=0\n",
    "    while h1 and h2 and h3:\n",
    "        #Taking the minimum of all the stacks sum \n",
    "        mini=min(s1,s2,s3)\n",
    "        #poping out elements until we reach less then minimum\n",
    "        while s1>mini:\n",
    "            \n",
    "            s1=s1-h1.pop()\n",
    "            c+=1\n",
    "        while s2>mini:\n",
    "            s2=s2-h2.pop()\n",
    "            c+=1\n",
    "            \n",
    "        while s3>mini:\n",
    "            s3=s3-h3.pop()\n",
    "            c+=1\n",
    "            \n",
    "        if s1==s2==s3:\n",
    "            print(h1,h2,h3)\n",
    "            return s1\n",
    "    #Else return 0 since all stacks are empty and sum will be zero\n",
    "    return 0\n",
    "l=[3,2,1,1,1]\n",
    "m=[4,3,2]\n",
    "n=[1,1,4,1]\n",
    "print(EqualStacks(l[::-1],m[::-1],n[::-1]))"
   ]
  },
  {
   "cell_type": "markdown",
   "metadata": {},
   "source": [
    "<p><a href=\"https://www.hackerrank.com/challenges/game-of-two-stacks/problem\">Game of two Stacks </a>HackerRank Problem </p>"
   ]
  },
  {
   "cell_type": "code",
   "execution_count": 13,
   "metadata": {},
   "outputs": [
    {
     "name": "stdout",
     "output_type": "stream",
     "text": [
      "[19, 9, 8, 13, 1, 7]\n",
      "[]\n",
      "6\n"
     ]
    }
   ],
   "source": [
    "def twoStacks(x, a, b):\n",
    "    # Write your code here\n",
    "    csum = 0\n",
    "    values= []\n",
    "    #first appending till all the values of stack A till we have satisfy the condition  csum<=x and \n",
    "    #store them in stack values\n",
    "    for i in range(len(a)):\n",
    "        val = a.pop()\n",
    "        if csum + val > x:\n",
    "            break\n",
    "        csum += val \n",
    "        values.append(val)\n",
    "    # Now we pop from stack b and check if \n",
    "    print(values)\n",
    "    max_count = len(values)\n",
    "    cur_count = max_count\n",
    "    while b:\n",
    "        if csum + b[-1] <= x:\n",
    "            csum += b.pop() \n",
    "            \n",
    "            cur_count += 1\n",
    "            if cur_count > max_count:\n",
    "                max_count = cur_count\n",
    "            continue\n",
    "        if not len(values):\n",
    "            break\n",
    "        aval = values.pop()\n",
    "        csum -= aval\n",
    "        cur_count -= 1\n",
    "    print(values)\n",
    "    return max_count\n",
    "\n",
    "a=[19, 9, 8, 13, 1, 7, 18, 0, 19, 19, 10, 5, 15 ]\n",
    "b=[11, 17, 1, 18, 14, 12, 9 ,18 ,14, 3, 4, 3, 7, 8, 3, 3, 0, 1, 13, 4, 10, 7 ,14]\n",
    "print(twoStacks(67,a[::-1],b[::-1]))"
   ]
  },
  {
   "cell_type": "markdown",
   "metadata": {},
   "source": [
    "<p><a href=\"https://www.hackerrank.com/challenges/simple-text-editor/problem\">A Simple Text Editor</a> HackerRank Problem</p>"
   ]
  },
  {
   "cell_type": "code",
   "execution_count": 18,
   "metadata": {},
   "outputs": [
    {
     "name": "stdout",
     "output_type": "stream",
     "text": [
      "8\n",
      "1 abc\n",
      "3 3\n",
      "c\n",
      "2 3\n",
      "1 xy\n",
      "3 2\n",
      "y\n",
      "4\n",
      "4\n",
      "3 1\n",
      "a\n"
     ]
    }
   ],
   "source": [
    "'''The program should be able to run the functions (append,remove,print,undo the previous operation)'''\n",
    "q=int(input())\n",
    "stk_op=[]\n",
    "mystr=''\n",
    "for i in range(q):\n",
    "    l=input().split()\n",
    "    if l[0]=='1':\n",
    "        #append l[1]\n",
    "        mystr=mystr+l[1]\n",
    "        stk_op.append(['2',len(l[1])])\n",
    "    elif l[0]=='2':\n",
    "        #delte l[1] last elements'\n",
    "        stk_op.append(['1',mystr[:-int(l[1])-1:-1][::-1]])\n",
    "        mystr=mystr[:len(mystr)-int(l[1])]\n",
    "        \n",
    "    elif l[0]=='3':\n",
    "        #print the l[1]-1 indexed chanracter\n",
    "        \n",
    "        print(mystr[int(l[1])-1])\n",
    "        \n",
    "    elif l[0]=='4':\n",
    "        #undo the previous option\n",
    "        li=stk_op.pop()\n",
    "        if li[0]=='1':\n",
    "            mystr=mystr+li[1]\n",
    "        elif li[0]=='2':\n",
    "            mystr=mystr[:len(mystr)-int(li[1])]\n",
    "        \n",
    "        "
   ]
  },
  {
   "cell_type": "markdown",
   "metadata": {},
   "source": [
    "<p><a href=\"https://www.hackerrank.com/challenges/and-xor-or/problem\">AND XOR OR </a>HackerRank Problem</p>"
   ]
  },
  {
   "cell_type": "code",
   "execution_count": 6,
   "metadata": {},
   "outputs": [
    {
     "name": "stdout",
     "output_type": "stream",
     "text": [
      "11\n"
     ]
    }
   ],
   "source": [
    "'''Using arrays but takes O(n^2) time complexity\n",
    "'''\n",
    "a=[9,8,3,5,7]\n",
    "n=5    \n",
    "l=[]\n",
    "for i in range(n-1):\n",
    "    for j in range(i+1,n):\n",
    "        myl=a[i:j+1]\n",
    "        c=min(myl)\n",
    "        myl.remove(c)\n",
    "        d=min(myl)\n",
    "        l.append([c,d])\n",
    "mx=0\n",
    "for i in l:\n",
    "    v=i[0] ^ i[1] # by simplifying (((x & y)^(x | y))& (x ^ y)) we get x^y\n",
    "    if v>mx:\n",
    "        mx=v\n",
    "print(mx)   \n"
   ]
  },
  {
   "cell_type": "code",
   "execution_count": 8,
   "metadata": {},
   "outputs": [
    {
     "name": "stdout",
     "output_type": "stream",
     "text": [
      "5\n",
      "9 6 3 5 2\n",
      "15\n"
     ]
    }
   ],
   "source": [
    "'''The above problem can be done using stacks reducing the complexity to O(n)  '''\n",
    "n = int(input())\n",
    "l = list(map(int,input().split()))\n",
    "mx = l[0]^l[1]\n",
    "stack = Stack()\n",
    "for i in l:\n",
    "    popped = True\n",
    "    while not stack.isEmpty():\n",
    "        top = stack.top() \n",
    "        Si = i^top  \n",
    "        if Si > mx:  # yield\n",
    "            mx = Si\n",
    "        if i < top:\n",
    "            stack.pop()\n",
    "        else:\n",
    "            break\n",
    "    stack.push(i)\n",
    "print(mx)"
   ]
  },
  {
   "cell_type": "markdown",
   "metadata": {},
   "source": [
    "<p><a href=\"https://www.hackerrank.com/challenges/poisonous-plants/problem\">Poisonous Plants </a> HackerRank Problem</p>"
   ]
  },
  {
   "cell_type": "code",
   "execution_count": 4,
   "metadata": {},
   "outputs": [
    {
     "name": "stdout",
     "output_type": "stream",
     "text": [
      "4 3 7 5 6 4 2\n",
      "3\n"
     ]
    }
   ],
   "source": [
    "#Naive Approach\n",
    "def poisonousPlants(p):\n",
    "    d=0\n",
    "    ln=len(p)\n",
    "    while True:\n",
    "        stack=[p[0]]\n",
    "        flg=0\n",
    "        i=1\n",
    "        while i<ln:\n",
    "            j=stack[-1]\n",
    "            if p[i]>j:\n",
    "                flg=1\n",
    "                stack.append(p[i])\n",
    "                p.pop(i)\n",
    "            else:\n",
    "                stack.append(p[i])\n",
    "                i+=1\n",
    "            \n",
    "            ln=len(p)\n",
    "        if not(flg):\n",
    "            break\n",
    "        d+=1\n",
    "        \n",
    "    return d\n",
    "print(poisonousPlants(list(map(int,input().split()))))"
   ]
  },
  {
   "cell_type": "code",
   "execution_count": 3,
   "metadata": {},
   "outputs": [
    {
     "name": "stdout",
     "output_type": "stream",
     "text": [
      "4 3 7 5 6 4 2\n",
      "3\n"
     ]
    }
   ],
   "source": [
    "#Optimal Solution for the above\n",
    "def poisonousPlants(plants):\n",
    "    stack = []\n",
    "    maxDays = -10**6\n",
    "\n",
    "    for i in plants:\n",
    "        days = 1\n",
    "\n",
    "        while stack and stack[-1][0] >= i:\n",
    "            ml = stack.pop()\n",
    "            days = max(days, ml[1] + 1)\n",
    "        \n",
    "        if not stack:\n",
    "            days = 0\n",
    "        \n",
    "        maxDays = max(maxDays, days)\n",
    "        stack.append([i, days])\n",
    "    \n",
    "    return maxDays\n",
    "print(poisonousPlants(list(map(int,input().split()))))\n",
    "  "
   ]
  },
  {
   "cell_type": "code",
   "execution_count": null,
   "metadata": {},
   "outputs": [],
   "source": []
  }
 ],
 "metadata": {
  "kernelspec": {
   "display_name": "Python 3",
   "language": "python",
   "name": "python3"
  },
  "language_info": {
   "codemirror_mode": {
    "name": "ipython",
    "version": 3
   },
   "file_extension": ".py",
   "mimetype": "text/x-python",
   "name": "python",
   "nbconvert_exporter": "python",
   "pygments_lexer": "ipython3",
   "version": "3.7.7"
  }
 },
 "nbformat": 4,
 "nbformat_minor": 4
}
