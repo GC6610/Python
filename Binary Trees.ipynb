{
 "cells": [
  {
   "cell_type": "code",
   "execution_count": 1,
   "metadata": {},
   "outputs": [],
   "source": [
    "import queue\n",
    "class BTnode:\n",
    "    def __init__(self,data):\n",
    "        self.data=data\n",
    "        self.lchild=None\n",
    "        self.rchild=None"
   ]
  },
  {
   "cell_type": "code",
   "execution_count": 2,
   "metadata": {},
   "outputs": [
    {
     "name": "stdout",
     "output_type": "stream",
     "text": [
      "Binary Tree formed\n"
     ]
    }
   ],
   "source": [
    "bt1=BTnode(1)\n",
    "bt1.lchild=BTnode(2)\n",
    "bt1.rchild=BTnode(3)\n",
    "bt1.lchild.lchild=BTnode(4)\n",
    "bt1.lchild.rchild=BTnode(5)\n",
    "bt1.rchild.lchild=BTnode(6)\n",
    "bt1.rchild.rchild=BTnode(7)\n",
    "'''\n",
    "       1\n",
    "    /      \\\n",
    "   2         3\n",
    " /   \\     /   \\\n",
    "4      5  6      7\n",
    "'''\n",
    "print(\"Binary Tree formed\")"
   ]
  },
  {
   "cell_type": "code",
   "execution_count": 3,
   "metadata": {},
   "outputs": [
    {
     "name": "stdout",
     "output_type": "stream",
     "text": [
      "1 : L 2 R 3 \n",
      "2 : L 4 R 5 \n",
      "4 : \n",
      "5 : \n",
      "3 : L 6 R 7 \n",
      "6 : \n",
      "7 : \n"
     ]
    }
   ],
   "source": [
    "def print_BTree(root):\n",
    "    if root==None:\n",
    "        return\n",
    "    print(root.data,end=\" : \")\n",
    "    if root.lchild!=None:\n",
    "        print('L',root.lchild.data,end=\" \")\n",
    "    if root.rchild!=None:\n",
    "        print('R',root.rchild.data,end=' ')\n",
    "    print()\n",
    "    print_BTree(root.lchild)  \n",
    "    print_BTree(root.rchild)\n",
    "print_BTree(bt1)\n",
    "        \n",
    "    "
   ]
  },
  {
   "cell_type": "code",
   "execution_count": 4,
   "metadata": {},
   "outputs": [
    {
     "name": "stdout",
     "output_type": "stream",
     "text": [
      "1\n",
      "2\n",
      "3\n",
      "-1\n",
      "-1\n",
      "-1\n",
      "5\n",
      "-1\n",
      "6\n",
      "-1\n",
      "-1\n",
      "1 : L 2 R 5 \n",
      "2 : L 3 \n",
      "3 : \n",
      "5 : R 6 \n",
      "6 : \n"
     ]
    }
   ],
   "source": [
    "def binTreeinput():\n",
    "    val=int(input())\n",
    "    if val==-1:\n",
    "        return None\n",
    "    root=BTnode(val)\n",
    "    leftTree=binTreeinput()\n",
    "    rightTree=binTreeinput()\n",
    "    root.lchild=leftTree\n",
    "    root.rchild=rightTree\n",
    "    return root\n",
    "print_BTree(binTreeinput())\n",
    "        "
   ]
  },
  {
   "cell_type": "code",
   "execution_count": 5,
   "metadata": {},
   "outputs": [
    {
     "name": "stdout",
     "output_type": "stream",
     "text": [
      "7\n"
     ]
    }
   ],
   "source": [
    "#Counting the number of nodes in a Binary Tree\n",
    "def num_of_nodes(root):\n",
    "    if root==None:\n",
    "        return 0\n",
    "    leftnum=num_of_nodes(root.lchild)\n",
    "    rightnum=num_of_nodes(root.rchild)\n",
    "    return 1+leftnum+rightnum\n",
    "print(num_of_nodes(bt1))"
   ]
  },
  {
   "cell_type": "code",
   "execution_count": 6,
   "metadata": {},
   "outputs": [
    {
     "name": "stdout",
     "output_type": "stream",
     "text": [
      "28\n"
     ]
    }
   ],
   "source": [
    "#Sum of nodes in Binary Tree\n",
    "def getSum(root):\n",
    "    if root==None:\n",
    "        return 0\n",
    "    return root.data+getSum(root.lchild)+getSum(root.rchild)\n",
    "print(getSum(bt1))"
   ]
  },
  {
   "cell_type": "code",
   "execution_count": 13,
   "metadata": {},
   "outputs": [
    {
     "name": "stdout",
     "output_type": "stream",
     "text": [
      "1 2 4 5 3 6 7 "
     ]
    }
   ],
   "source": [
    "'''Tree Traversals\n",
    "    Preorder,PostOrder,Inorder,LevelOrder'''\n",
    "def Preorder(root):\n",
    "    if root==None:\n",
    "        return\n",
    "    print(root.data,end=\" \")\n",
    "    Preorder(root.lchild)\n",
    "    Preorder(root.rchild)\n",
    "Preorder(bt1)"
   ]
  },
  {
   "cell_type": "code",
   "execution_count": 12,
   "metadata": {},
   "outputs": [
    {
     "name": "stdout",
     "output_type": "stream",
     "text": [
      "4 2 5 1 6 3 7 "
     ]
    }
   ],
   "source": [
    "def Inorder(root):\n",
    "    if root==None:\n",
    "        return\n",
    "    Inorder(root.lchild)\n",
    "    print(root.data,end=\" \")\n",
    "    Inorder(root.rchild)\n",
    "Inorder(bt1)"
   ]
  },
  {
   "cell_type": "code",
   "execution_count": 15,
   "metadata": {},
   "outputs": [
    {
     "name": "stdout",
     "output_type": "stream",
     "text": [
      "4 5 2 6 7 3 1 "
     ]
    }
   ],
   "source": [
    "def Postorder(root):\n",
    "    if root==None:\n",
    "        return\n",
    "    Postorder(root.lchild)\n",
    "    Postorder(root.rchild)\n",
    "    print(root.data,end=\" \")\n",
    "Postorder(bt1)"
   ]
  },
  {
   "cell_type": "code",
   "execution_count": 13,
   "metadata": {},
   "outputs": [
    {
     "name": "stdout",
     "output_type": "stream",
     "text": [
      "7\n"
     ]
    }
   ],
   "source": [
    "#To find largest value of a node in a Binary Tree\n",
    "def largest(root):\n",
    "    if root==None:\n",
    "        return -1\n",
    "    return max([root.data,largest(root.lchild),largest(root.rchild)])\n",
    "print(largest(bt1))"
   ]
  },
  {
   "cell_type": "code",
   "execution_count": 14,
   "metadata": {},
   "outputs": [
    {
     "name": "stdout",
     "output_type": "stream",
     "text": [
      "4\n"
     ]
    }
   ],
   "source": [
    "#Count nodes whose data is greater than 'x'\n",
    "def countNodesGreaterThanX(root, x) :\n",
    "    if root==None:\n",
    "        return 0\n",
    "    if root.data>x:\n",
    "        return 1+countNodesGreaterThanX(root.lchild, x)+countNodesGreaterThanX(root.rchild, x) \n",
    "    else:\n",
    "        return countNodesGreaterThanX(root.lchild, x)+countNodesGreaterThanX(root.rchild, x) \n",
    "print(countNodesGreaterThanX(bt1, 3))"
   ]
  },
  {
   "cell_type": "code",
   "execution_count": 54,
   "metadata": {},
   "outputs": [
    {
     "name": "stdout",
     "output_type": "stream",
     "text": [
      "2\n"
     ]
    }
   ],
   "source": [
    "#Height of a Binary Tree\n",
    "def height(root):\n",
    "    if root==None:\n",
    "        return 0\n",
    "    if root.rchild==None and root.lchild==None:\n",
    "        return 0\n",
    "    return 1+max(height(root.lchild),height(root.rchild))\n",
    "print(height(bt1))"
   ]
  },
  {
   "cell_type": "code",
   "execution_count": 41,
   "metadata": {},
   "outputs": [
    {
     "name": "stdout",
     "output_type": "stream",
     "text": [
      "4\n"
     ]
    }
   ],
   "source": [
    "#Counting total number of leaf nodes\n",
    "def leafnodescnt(root):\n",
    "    if root==None:\n",
    "        return 0\n",
    "    if root.rchild==None and root.lchild==None:\n",
    "        return 1\n",
    "    return leafnodescnt(root.lchild)+leafnodescnt(root.rchild)\n",
    "print(leafnodescnt(bt1))"
   ]
  },
  {
   "cell_type": "code",
   "execution_count": 31,
   "metadata": {},
   "outputs": [
    {
     "name": "stdout",
     "output_type": "stream",
     "text": [
      "2 3 \n",
      "4 5 6 7 "
     ]
    }
   ],
   "source": [
    "#Printining Nodes at depth k\n",
    "\n",
    "def nodeatk(root,k):\n",
    "    if root==None:\n",
    "        return \n",
    "    if k==0:\n",
    "        print(root.data,end=\" \")\n",
    "    nodeatk(root.lchild,k-1)\n",
    "    nodeatk(root.rchild,k-1)\n",
    "nodeatk(bt1,1) #at depth 1\n",
    "print()\n",
    "nodeatk(bt1,2) # at depth 2  \n",
    "    "
   ]
  },
  {
   "cell_type": "code",
   "execution_count": 35,
   "metadata": {},
   "outputs": [
    {
     "name": "stdout",
     "output_type": "stream",
     "text": [
      "2 1 2 0 2 1 2 "
     ]
    }
   ],
   "source": [
    "'''Replacing node values with their depth values'''\n",
    "def changeToDepthTree(root,k=0) :\n",
    "    if root==None:\n",
    "        return\n",
    "    root.data=k\n",
    "    changeToDepthTree(root.lchild,k+1)\n",
    "    changeToDepthTree(root.rchild,k+1)\n",
    "changeToDepthTree(bt1)\n",
    "Inorder(bt1)"
   ]
  },
  {
   "cell_type": "code",
   "execution_count": 40,
   "metadata": {},
   "outputs": [
    {
     "name": "stdout",
     "output_type": "stream",
     "text": [
      "4 2 5 1 6 3 7 \n",
      "True\n",
      "False\n"
     ]
    }
   ],
   "source": [
    "'''To find if a node is there or not in a Tree'''\n",
    "def isNodePresent(root, x) :\n",
    "\t#Your code goes here\n",
    "    if root==None:\n",
    "        return False\n",
    "    if root.data==x:\n",
    "        return True\n",
    "    l=isNodePresent(root.lchild,x)\n",
    "    m=isNodePresent(root.rchild,x)\n",
    "    if not(l or m):\n",
    "        return False\n",
    "    return True\n",
    "Inorder(bt1)\n",
    "print()\n",
    "print(isNodePresent(bt1,1))\n",
    "print(isNodePresent(bt1,8))"
   ]
  },
  {
   "cell_type": "code",
   "execution_count": 42,
   "metadata": {},
   "outputs": [
    {
     "data": {
      "text/plain": [
       "1"
      ]
     },
     "execution_count": 42,
     "metadata": {},
     "output_type": "execute_result"
    }
   ],
   "source": [
    "int(True)"
   ]
  },
  {
   "cell_type": "code",
   "execution_count": 56,
   "metadata": {},
   "outputs": [
    {
     "name": "stdout",
     "output_type": "stream",
     "text": [
      "4 7 "
     ]
    }
   ],
   "source": [
    "'''Print the nodes which doesn't have siblings'''\n",
    "x=BTnode(1)\n",
    "x.lchild=BTnode(2)\n",
    "x.rchild=BTnode(3)\n",
    "x.lchild.lchild=BTnode(4)\n",
    "x.rchild.rchild=BTnode(7)\n",
    "x.lchild.lchild.lchild=BTnode(5)\n",
    "x.lchild.lchild.rchild=BTnode(6)\n",
    "'''\n",
    "                1\n",
    "             /     \\\n",
    "           2        3\n",
    "         /            \\\n",
    "        4              7\n",
    "     /    \\\n",
    "    5      6\n",
    "'''\n",
    "def printNodesWithoutSibling(root) :\n",
    "\t# Your code goes here\n",
    "    if root==None:\n",
    "        return 0\n",
    "    if int(root.rchild==None) ^ int(root.lchild==None):\n",
    "        if root.lchild:\n",
    "            print(root.lchild.data,end=\" \")\n",
    "        else:\n",
    "            print(root.rchild.data,end=\" \")\n",
    "    \n",
    "    printNodesWithoutSibling(root.lchild)\n",
    "    printNodesWithoutSibling(root.rchild)\n",
    "printNodesWithoutSibling(x)"
   ]
  },
  {
   "cell_type": "code",
   "execution_count": 57,
   "metadata": {},
   "outputs": [
    {
     "name": "stdout",
     "output_type": "stream",
     "text": [
      "1 : L 2 R 3 \n",
      "2 : L 4 \n",
      "4 : \n",
      "3 : \n"
     ]
    }
   ],
   "source": [
    "'''Removing the leaf nodes in a tree'''\n",
    "temproot1=x\n",
    "\n",
    "def removeleaf(root):\n",
    "    if root==None:\n",
    "        return None\n",
    "    if root.lchild==None and root.rchild==None:\n",
    "        return None\n",
    "        \n",
    "    root.lchild=removeleaf(root.lchild)\n",
    "    root.rchild=removeleaf(root.rchild)\n",
    "    return root\n",
    "removeleaf(temproot1)\n",
    "print_BTree(temproot1)\n"
   ]
  },
  {
   "cell_type": "code",
   "execution_count": 58,
   "metadata": {},
   "outputs": [
    {
     "name": "stdout",
     "output_type": "stream",
     "text": [
      "1 : L 3 R 2 \n",
      "3 : L 7 \n",
      "7 : \n",
      "2 : R 4 \n",
      "4 : L 6 R 5 \n",
      "6 : \n",
      "5 : \n"
     ]
    }
   ],
   "source": [
    "'''For a given Binary Tree of type integer, update it with its corresponding mirror image.'''\n",
    "x=BTnode(1)\n",
    "x.lchild=BTnode(2)\n",
    "x.rchild=BTnode(3)\n",
    "x.lchild.lchild=BTnode(4)\n",
    "x.rchild.rchild=BTnode(7)\n",
    "x.lchild.lchild.lchild=BTnode(5)\n",
    "x.lchild.lchild.rchild=BTnode(6)\n",
    "temproot2=x\n",
    "def mirror(root):\n",
    "    if root==None:\n",
    "        return\n",
    "    mirror(root.lchild)\n",
    "    mirror(root.rchild)\n",
    "    t=root.lchild\n",
    "    root.lchild=root.rchild\n",
    "    root.rchild=t\n",
    "    return root\n",
    "mirror(temproot2)\n",
    "print_BTree(temproot2)"
   ]
  },
  {
   "cell_type": "code",
   "execution_count": 60,
   "metadata": {},
   "outputs": [
    {
     "data": {
      "text/plain": [
       "False"
      ]
     },
     "execution_count": 60,
     "metadata": {},
     "output_type": "execute_result"
    }
   ],
   "source": [
    "'''To check if a binary Tree is balanced or not'''\n",
    "x=BTnode(1)\n",
    "x.lchild=BTnode(2)\n",
    "x.rchild=BTnode(3)\n",
    "x.lchild.lchild=BTnode(4)\n",
    "x.lchild.lchild.lchild=BTnode(5)\n",
    "x.lchild.lchild.rchild=BTnode(6)\n",
    "'''\n",
    "                1\n",
    "             /     \\\n",
    "           2        3\n",
    "         /            \n",
    "        4              \n",
    "     /    \\\n",
    "    5      6\n",
    "'''\n",
    "'''Worst case O(n^2)'''\n",
    "def balanced(root):\n",
    "    if root==None:\n",
    "        return -1\n",
    "    balanced(root.lchild)\n",
    "    balanced(root.rchild)\n",
    "    if abs(height(root.lchild)-height(root.rchild))<=1:\n",
    "        return True\n",
    "    return False\n",
    "balanced(x)\n"
   ]
  },
  {
   "cell_type": "code",
   "execution_count": 70,
   "metadata": {},
   "outputs": [
    {
     "name": "stdout",
     "output_type": "stream",
     "text": [
      "(3, False)\n"
     ]
    }
   ],
   "source": [
    "'''Optimised solution for the above\n",
    "here along with balanced or not we also receive height of node itself while checking balance condition of its child nodes '''\n",
    "\n",
    "def optbalanced(root):\n",
    "    if root==None:\n",
    "        return 0,True\n",
    "    if root.rchild==None and root.lchild==None:\n",
    "        return 0,True\n",
    "    lh,c=optbalanced(root.lchild)\n",
    "    rh,c=optbalanced(root.rchild)\n",
    "    h=1+max(rh,lh)\n",
    "    if abs(lh-rh)<=1:\n",
    "        return h,True\n",
    "    \n",
    "    return h,False\n",
    "print(optbalanced(x))"
   ]
  },
  {
   "cell_type": "code",
   "execution_count": 8,
   "metadata": {},
   "outputs": [
    {
     "data": {
      "text/plain": [
       "8"
      ]
     },
     "execution_count": 8,
     "metadata": {},
     "output_type": "execute_result"
    }
   ],
   "source": [
    "x=BTnode(1)\n",
    "x.lchild=BTnode(2)\n",
    "x.lchild.rchild=BTnode(7)\n",
    "x.lchild.rchild.rchild=BTnode(8)\n",
    "x.lchild.rchild.rchild.lchild=BTnode(9)\n",
    "x.lchild.rchild.rchild.lchild.lchild=BTnode(10)\n",
    "x.rchild=BTnode(3)\n",
    "x.lchild.lchild=BTnode(4)\n",
    "x.lchild.lchild.lchild=BTnode(5)\n",
    "x.lchild.lchild.lchild.lchild=BTnode(11)\n",
    "x.lchild.lchild.rchild=BTnode(6)\n",
    "'''\n",
    "                             1\n",
    "                          /     \\\n",
    "                        2        3\n",
    "                       /  \\          \n",
    "                     4      7         \n",
    "                  /    \\      \\\n",
    "                 5      6       8\n",
    "               /               /\n",
    "             11               9\n",
    "                            /\n",
    "                          10\n",
    "'''\n",
    "def dist(root):\n",
    "    if root==None:\n",
    "        return 0\n",
    "    return 1+max(dist(root.lchild),dist(root.rchild))\n",
    "\n",
    "def diameterOfBinaryTree(root):\n",
    "    if root==None:\n",
    "        return  0\n",
    "    \n",
    "    l=diameterOfBinaryTree(root.lchild)\n",
    "    r=diameterOfBinaryTree(root.rchild)\n",
    "    height=1+dist(root.lchild)+dist(root.rchild)\n",
    "    return max(l,r,height)\n",
    "diameterOfBinaryTree(x)\n"
   ]
  },
  {
   "cell_type": "code",
   "execution_count": 23,
   "metadata": {},
   "outputs": [
    {
     "data": {
      "text/plain": [
       "8"
      ]
     },
     "execution_count": 23,
     "metadata": {},
     "output_type": "execute_result"
    }
   ],
   "source": [
    "'''Optimised Version for above'''\n",
    "class Height:\n",
    "    def __init__(self):\n",
    "        self.h=0\n",
    "def Diameter(root,height):\n",
    "    lt=Height()\n",
    "    rt=Height()\n",
    "    if root ==None:\n",
    "        height.h=0\n",
    "        return 0\n",
    "    l=Diameter(root.lchild,lt)\n",
    "    r=Diameter(root.rchild,rt)\n",
    "    height.h=max(lt.h,rt.h)+1\n",
    "    return max(l,r,lt.h+rt.h+1)\n",
    "Diameter(x,Height())"
   ]
  },
  {
   "cell_type": "code",
   "execution_count": 7,
   "metadata": {},
   "outputs": [
    {
     "name": "stdout",
     "output_type": "stream",
     "text": [
      "1 : L 1 R 3 \n",
      "1 : L 2 \n",
      "2 : L 2 R 7 \n",
      "2 : \n",
      "7 : L 7 \n",
      "7 : \n",
      "3 : L 3 \n",
      "3 : \n"
     ]
    }
   ],
   "source": [
    "'''For a given a Binary Tree of type integer, duplicate every node of the tree and attach it to the left of itself.\n",
    "The root will remain the same. So you just need to insert nodes in the given Binary Tree.'''\n",
    "x=BTnode(1)\n",
    "x.lchild=BTnode(2)\n",
    "x.rchild=BTnode(3)\n",
    "x.lchild.rchild=BTnode(7)\n",
    "\n",
    "'''\n",
    "                             1                                         1\n",
    "                          /     \\                                   /     \\\n",
    "                        2        3   ------>>>>                    1       3\n",
    "                          \\                                       /       /  \n",
    "                             7                                   2        3\n",
    "                                                              /   \\\n",
    "                                                             2      7\n",
    "                                                                 /\n",
    "                                                                7           '''  \n",
    "def insertDuplicateNode(root):\n",
    "    \n",
    "    if root==None:\n",
    "        return \n",
    "    newnode=BTnode(root.data)\n",
    "    orgnode=root.lchild\n",
    "    root.lchild=newnode\n",
    "    newnode.lchild=orgnode\n",
    "    insertDuplicateNode(newnode.lchild)\n",
    "    insertDuplicateNode(root.rchild)\n",
    "    return root\n",
    "root=insertDuplicateNode(x)   \n",
    "print_BTree(root)   \n",
    "    "
   ]
  },
  {
   "cell_type": "code",
   "execution_count": 11,
   "metadata": {},
   "outputs": [
    {
     "data": {
      "text/plain": [
       "(1, 11)"
      ]
     },
     "execution_count": 11,
     "metadata": {},
     "output_type": "execute_result"
    }
   ],
   "source": [
    "'''For a given a Binary Tree of type integer, find and return the minimum and the maximum data values.\n",
    "\n",
    "                             1\n",
    "                          /     \\\n",
    "                        2        3\n",
    "                       /  \\          \n",
    "                     4      7         \n",
    "                  /    \\      \\\n",
    "                 5      6       8\n",
    "               /               /\n",
    "             11               9\n",
    "                            /\n",
    "                          10\n",
    "'''\n",
    "def getMinAndMax(root) :\n",
    "    if root==None:\n",
    "        return (100000,-1)\n",
    "    val=root.data\n",
    "    mnl,mxl=getMinAndMax(root.lchild)\n",
    "    mnr,mxr=getMinAndMax(root.rchild)\n",
    "    return (min(val,mnl,mnr),max(val,mxl,mxr))\n",
    "getMinAndMax(x)\n",
    "\n"
   ]
  },
  {
   "cell_type": "code",
   "execution_count": 15,
   "metadata": {},
   "outputs": [
    {
     "name": "stdout",
     "output_type": "stream",
     "text": [
      "Enter root value : \n",
      "7\n",
      "Enter left child of  7 : 1\n",
      "Enter right child of  7 : 2\n",
      "Enter left child of  1 : 3\n",
      "Enter right child of  1 : 4\n",
      "Enter left child of  2 : -1\n",
      "Enter right child of  2 : -1\n",
      "Enter left child of  3 : -1\n",
      "Enter right child of  3 : 10\n",
      "Enter left child of  4 : -1\n",
      "Enter right child of  4 : -1\n",
      "Enter left child of  10 : -1\n",
      "Enter right child of  10 : -1\n",
      "7 : L 1 R 2 \n",
      "1 : L 3 R 4 \n",
      "3 : R 10 \n",
      "10 : \n",
      "4 : \n",
      "2 : \n"
     ]
    }
   ],
   "source": [
    "'''LevelWise input for a binary Tree'''\n",
    "import queue\n",
    "def levelwiseBT():\n",
    "    q=queue.Queue()\n",
    "    print('Enter root value : ')\n",
    "    k=int(input())\n",
    "    if k==-1:\n",
    "        return None\n",
    "    else:\n",
    "        root=BTnode(k)\n",
    "    q.put(root)\n",
    "    \n",
    "    while not(q.empty()):\n",
    "        a=q.get()\n",
    "        print(\"Enter left child of \",a.data,end=' : ')\n",
    "        ldata=int(input())\n",
    "        if ldata!=-1:\n",
    "            a.lchild=BTnode(ldata)\n",
    "            q.put(a.lchild)\n",
    "        print(\"Enter right child of \",a.data,end=' : ')\n",
    "        rdata=int(input())\n",
    "        if rdata!=-1:\n",
    "            a.rchild=BTnode(rdata)\n",
    "            q.put(a.rchild)\n",
    "    return root\n",
    "BTroot=levelwiseBT()\n",
    "print_BTree(BTroot)      \n",
    "        "
   ]
  },
  {
   "cell_type": "code",
   "execution_count": 12,
   "metadata": {},
   "outputs": [
    {
     "name": "stdout",
     "output_type": "stream",
     "text": [
      "5 6 10 2 3 -1 -1 -1 -1 -1 9 -1 -1\n",
      "5 : L 6 R 10 \n",
      "6 : L 2 R 3 \n",
      "2 : \n",
      "3 : R 9 \n",
      "9 : \n",
      "10 : \n"
     ]
    }
   ],
   "source": [
    "'''Taking input as a list'''\n",
    "def levelwiseBTList(l):\n",
    "    q=queue.Queue()\n",
    "    k=l.get()\n",
    "    if k==-1:\n",
    "        return None\n",
    "    else:\n",
    "        root=BTnode(k)\n",
    "    q.put(root)  \n",
    "    while not(q.empty()):\n",
    "        a=q.get() \n",
    "        ldata=l.get()\n",
    "        if ldata!=-1:            \n",
    "            a.lchild=BTnode(ldata)\n",
    "            q.put(a.lchild)\n",
    "        rdata=l.get()\n",
    "        if rdata!=-1:\n",
    "            \n",
    "            a.rchild=BTnode(rdata)\n",
    "            q.put(a.rchild)\n",
    "    return root\n",
    "l=queue.Queue()\n",
    "myelems=list(map(int,input().split()))\n",
    "for elem in myelems:\n",
    "    l.put(elem)\n",
    "BTroot1=levelwiseBTList(l)\n",
    "\n",
    "print_BTree(BTroot1)      "
   ]
  },
  {
   "cell_type": "code",
   "execution_count": 9,
   "metadata": {},
   "outputs": [
    {
     "name": "stdout",
     "output_type": "stream",
     "text": [
      "7 : L 2 , R 6\n",
      "2 : L 12 , R 3\n",
      "6 : L -1 , R -1\n",
      "12 : L -1 , R -1\n",
      "3 : L -1 , R -1\n"
     ]
    }
   ],
   "source": [
    "'''Printing a BinaryTree Levelwise '''\n",
    "def PrintlevelwiseBT(root):\n",
    "    q=queue.Queue()\n",
    "    \n",
    "    if root==None:\n",
    "        return None\n",
    "    q.put(root)\n",
    "    \n",
    "    while not(q.empty()):\n",
    "        a=q.get()\n",
    "        print(a.data,end=' : ')\n",
    "        \n",
    "        if a.lchild!=None:\n",
    "            print('L',a.lchild.data,end=' , ')\n",
    "            q.put(a.lchild)\n",
    "        else:\n",
    "            print('L',-1,end=' , ')\n",
    "        if a.rchild!=None:\n",
    "            print('R',a.rchild.data)\n",
    "            q.put(a.rchild)\n",
    "        else:\n",
    "            print('R',-1)       \n",
    "PrintlevelwiseBT(BTroot)\n"
   ]
  },
  {
   "cell_type": "code",
   "execution_count": 22,
   "metadata": {},
   "outputs": [
    {
     "name": "stdout",
     "output_type": "stream",
     "text": [
      "7 \n",
      "2 6 \n",
      "12 3 \n"
     ]
    }
   ],
   "source": [
    "'''or in this format for the above statement'''\n",
    "def printLevelWise(root):\n",
    "    if root is None :\n",
    "        return\n",
    "    q = queue.Queue()\n",
    "    q.put(root)\n",
    "    q.put(None)\n",
    "    while not q.empty(): \n",
    "        a = q.get()\n",
    "        if a is None :\n",
    "            print()\n",
    "            if not q.empty() :\n",
    "                q.put(None)        \n",
    "        else :\n",
    "            print(a.data, end = \" \")\n",
    "            if a.lchild is not None :\n",
    "                q.put(a.lchild)         \n",
    "            if a.rchild is not None :\n",
    "                q.put(a.rchild)\n",
    "\n",
    "printLevelWise(BTroot)\n"
   ]
  },
  {
   "cell_type": "code",
   "execution_count": 19,
   "metadata": {},
   "outputs": [
    {
     "name": "stdout",
     "output_type": "stream",
     "text": [
      "1 : L 2 , R 3\n",
      "2 : L 4 , R 5\n",
      "3 : L 6 , R 7\n",
      "4 : L -1 , R -1\n",
      "5 : L -1 , R -1\n",
      "6 : L -1 , R -1\n",
      "7 : L -1 , R -1\n"
     ]
    }
   ],
   "source": [
    "'''Constructing a Binary Tree using Inorder and Preorder'''\n",
    "def constructIPr(inorder,preorder):\n",
    "    if len(preorder)==0:\n",
    "        return None\n",
    "    rootdata=preorder[0]\n",
    "    root=BTnode(rootdata)\n",
    "    pos=-1\n",
    "    for i in range(len(inorder)):\n",
    "        if inorder[i]==rootdata:\n",
    "            pos=i\n",
    "            break\n",
    "    if pos==-1:\n",
    "        return None\n",
    "    root.lchild=constructIPr(inorder[:pos],preorder[1:pos+1])\n",
    "    root.rchild=constructIPr(inorder[pos+1:],preorder[pos+1:])\n",
    "    return root\n",
    "Inorder=[4,2,5,1,6,3,7]\n",
    "Preorder=[1,2,4,5,3,6,7]\n",
    "Myroot1=constructIPr(Inorder,Preorder)\n",
    "PrintlevelwiseBT(Myroot1)        \n",
    "    "
   ]
  },
  {
   "cell_type": "code",
   "execution_count": 20,
   "metadata": {},
   "outputs": [
    {
     "name": "stdout",
     "output_type": "stream",
     "text": [
      "1 : L 2 , R 3\n",
      "2 : L 4 , R 5\n",
      "3 : L 6 , R 7\n",
      "4 : L -1 , R -1\n",
      "5 : L -1 , R -1\n",
      "6 : L -1 , R -1\n",
      "7 : L -1 , R -1\n"
     ]
    }
   ],
   "source": [
    "'''Constructing a Binary Tree using Inorder and Postorder'''\n",
    "def constructIPost(inorder,postorder):\n",
    "    if len(postorder)==0:\n",
    "        return None\n",
    "    rootdata=postorder[-1]\n",
    "    root=BTnode(rootdata)\n",
    "    pos=-1\n",
    "    for i in range(len(inorder)):\n",
    "        if inorder[i]==rootdata:\n",
    "            pos=i\n",
    "            break\n",
    "    if pos==-1:\n",
    "        return None\n",
    "    root.lchild=constructIPost(inorder[:pos],postorder[:pos])\n",
    "    root.rchild=constructIPost(inorder[pos+1:],postorder[pos:len(postorder)-1])\n",
    "    return root\n",
    "postorder=[4 ,5, 2, 6, 7 ,3 ,1] \n",
    "inorder=[4, 2, 5, 1, 6, 3, 7] \n",
    "myroot2=constructIPost(inorder,postorder)\n",
    "PrintlevelwiseBT(Myroot1)  "
   ]
  },
  {
   "cell_type": "code",
   "execution_count": 10,
   "metadata": {},
   "outputs": [
    {
     "name": "stdout",
     "output_type": "stream",
     "text": [
      "2 3 9 4 8 -1 2 4 -1 -1 -1 6 -1 -1 -1 -1 -1\n",
      "13\n",
      "2 3 4 4 \n",
      "2 3 8 \n",
      "\n"
     ]
    }
   ],
   "source": [
    "'''For a given Binary Tree of type integer and a number K, print out all root-to-leaf paths where the \n",
    "sum of all the node data along the path is equal to K.'''\n",
    "\n",
    "def levelwiseBTList(l):\n",
    "    q=queue.Queue()\n",
    "    k=l.get()\n",
    "    if k==-1:\n",
    "        return None\n",
    "    else:\n",
    "        root=BTnode(k)\n",
    "    q.put(root)  \n",
    "    while not(q.empty()):\n",
    "        a=q.get() \n",
    "        ldata=l.get()\n",
    "        if ldata!=-1:            \n",
    "            a.lchild=BTnode(ldata)\n",
    "            q.put(a.lchild)\n",
    "        rdata=l.get()\n",
    "        if rdata!=-1:\n",
    "            \n",
    "            a.rchild=BTnode(rdata)\n",
    "            q.put(a.rchild)\n",
    "    return root\n",
    "\n",
    "def printpath(v, i):\n",
    "    #To check if last node is leaf node or not\n",
    "    if v[len(v)-1].rchild!=None or v[len(v)-1].lchild!=None:\n",
    "        print()\n",
    "        return \n",
    "     #To check if first node is root node or not\n",
    "    if BTroot==v[i]:\n",
    "        for j in range(i,len(v)):\n",
    "            print(v[j].data,end=' ')\n",
    "    print()\n",
    "def printKPath(root, path, k):\n",
    "\n",
    "\n",
    "    if (not root) :\n",
    "        return\n",
    "    path.append(root)\n",
    "\n",
    "    printKPath(root.lchild, path, k)\n",
    "    printKPath(root.rchild, path, k)\n",
    "\n",
    "    f = 0\n",
    "    for j in range(len(path) - 1, -1, -1):\t\n",
    "        f += path[j].data\n",
    "        if f==k:\n",
    "            printpath(path,j)\n",
    "    path.pop(-1)\n",
    "#For taking levelwise input\n",
    "l=queue.Queue()\n",
    "myelems=list(map(int,input().split()))\n",
    "k=int(input())\n",
    "for elem in myelems:\n",
    "    l.put(elem)\n",
    "BTroot=levelwiseBTList(l)\n",
    "printKPath(BTroot, [], k)\n"
   ]
  },
  {
   "cell_type": "code",
   "execution_count": 23,
   "metadata": {},
   "outputs": [
    {
     "name": "stdout",
     "output_type": "stream",
     "text": [
      "1 2 3 4 5 6 7 -1 -1 -1 -1 -1 -1 -1 -1\n",
      "3 3\n",
      "4\n",
      "5\n"
     ]
    }
   ],
   "source": [
    "'''You are given a Binary Tree of type integer, a target node, and an integer value K.\n",
    "Print the data of all nodes that have a distance K from the target node. \n",
    "The order in which they would be printed will not matter.'''\n",
    "'''Algo: Traversing through the tree finding Least common ancestors of the target node and currnode\n",
    "         distbetween currnode and targetnode=abs(lcanode.level-curr.level)+abs(lcanode.level-target.level)\n",
    "         if distbetween them is greater than target stop traversing \n",
    "         and if equal print currnode\n",
    "         else traverse to its children'''\n",
    "\n",
    "class levelofnode:\n",
    "    def __init__(self,level):\n",
    "        self.level=level\n",
    "\n",
    "def searchnode(node, key) :\n",
    "    if (node == None):\n",
    "        return None\n",
    "        \n",
    "    if (node.data == key):\n",
    "        return node\n",
    "    res1 = searchnode(node.lchild, key)\n",
    "    if res1:\n",
    "        return res1\n",
    "    res2 = searchnode(node.rchild, key)\n",
    "    return res2\n",
    "    \n",
    "def findPath( root, path, k):\n",
    "    if root is None:\n",
    "        return False\n",
    "    path.append(root)\n",
    "\n",
    "    if root == k :\n",
    "        return True\n",
    "\n",
    "    if ((root.lchild != None and findPath(root.lchild, path, k)) or\n",
    "        (root.rchild!= None and findPath(root.rchild, path, k))):\n",
    "        return True\n",
    "\n",
    "    path.pop()\n",
    "    return False\n",
    "\n",
    "def findLCA(root, node1, node2):\n",
    "    path1 = []\n",
    "    path2 = []\n",
    "\n",
    "    if (not findPath(root, path1, node1) or not findPath(root, path2, node2)):\n",
    "        return -1\n",
    "    i = 0\n",
    "    while(i < len(path1) and i < len(path2)):\n",
    "        if path1[i] != path2[i]:\n",
    "            break\n",
    "        i += 1\n",
    "    return path1[i-1]\n",
    " \n",
    "def assigning_level(root,k=0):\n",
    "    if not root:\n",
    "        return\n",
    "    root.level=k\n",
    "        \n",
    "    assigning_level(root.lchild,k+1)\n",
    "    assigning_level(root.rchild,k+1)\n",
    "def nodesatdistk(root,target,dist):\n",
    "    if root==None:\n",
    "        return\n",
    "    lcanode=findLCA(rootnode, root, target)\n",
    "    distbetweennodes=abs(lcanode.level-root.level)+abs(lcanode.level-target.level)\n",
    "    if distbetweennodes>dist:\n",
    "        return \n",
    "    if distbetweennodes==dist:\n",
    "        print(root.data)\n",
    "    nodesatdistk(root.lchild,target,dist)\n",
    "    nodesatdistk(root.rchild,target,dist)\n",
    "l=queue.Queue()\n",
    "myelems=list(map(int,input().split()))\n",
    "targetvalue,dist=map(int,input().split())\n",
    "\n",
    "\n",
    "for elem in myelems:\n",
    "    l.put(elem)\n",
    "rootnode=levelwiseBTList(l)\n",
    "\n",
    "mytargetnode=searchnode(rootnode,targetvalue)\n",
    "\n",
    "assigning_level(rootnode)\n",
    "nodesatdistk(rootnode,mytargetnode,dist)\n",
    "\n",
    "    "
   ]
  },
  {
   "cell_type": "code",
   "execution_count": null,
   "metadata": {},
   "outputs": [],
   "source": []
  }
 ],
 "metadata": {
  "kernelspec": {
   "display_name": "Python 3",
   "language": "python",
   "name": "python3"
  },
  "language_info": {
   "codemirror_mode": {
    "name": "ipython",
    "version": 3
   },
   "file_extension": ".py",
   "mimetype": "text/x-python",
   "name": "python",
   "nbconvert_exporter": "python",
   "pygments_lexer": "ipython3",
   "version": "3.7.7"
  }
 },
 "nbformat": 4,
 "nbformat_minor": 4
}
