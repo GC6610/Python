{
 "cells": [
  {
   "cell_type": "markdown",
   "metadata": {},
   "source": [
    "<h1>What is Object Oriented Programming?</h1>"
   ]
  },
  {
   "cell_type": "markdown",
   "metadata": {},
   "source": [
    "Object-Oriented Programming(OOP), is all about creating “objects”. An object is a group of interrelated variables and functions. These variables are often referred to as properties of the object and functions are referred to as the behavior of the objects. These objects provide a better and clear structure for the program.\n",
    "Example:\n",
    "There are students in a class ,A Student can be a object here and we can have properties/Attributes like his IQ, Subject wise marks in exams,Roll numbers etc.,\n",
    "\n",
    "<h3>What is a Class?</h3>\n",
    "Class is collection of Objects.They are basically just the templates which contains all the properties of the specific category.\n",
    "These are denoted by the keyword \"class\"\n",
    "Example:"
   ]
  },
  {
   "cell_type": "code",
   "execution_count": 3,
   "metadata": {},
   "outputs": [],
   "source": [
    "class Student:\n",
    "    pass"
   ]
  },
  {
   "cell_type": "markdown",
   "metadata": {},
   "source": [
    "<h4>Note:</h4>You cannot leave a class empty it will throw an error if you do.So for now since we are not mentioning anything inside we use the keyword  pass as we do in functions."
   ]
  },
  {
   "cell_type": "markdown",
   "metadata": {},
   "source": [
    "<h3>What is an Object?</h3>\n",
    "Whenever you declare a Class there is no memory Allocation done for that. We need to create an Object to do this.This Objecter instance contains the real data.\n",
    "Each Object has its own Properties,Functions etc..\n",
    "Take the example of Students discussed above.\n",
    "Example:"
   ]
  },
  {
   "cell_type": "code",
   "execution_count": 5,
   "metadata": {},
   "outputs": [
    {
     "name": "stdout",
     "output_type": "stream",
     "text": [
      "<__main__.Student object at 0x000002204FB72F48>\n"
     ]
    }
   ],
   "source": [
    "myobj1=Student()\n",
    "print(myobj1)"
   ]
  },
  {
   "cell_type": "code",
   "execution_count": 6,
   "metadata": {},
   "outputs": [
    {
     "name": "stdout",
     "output_type": "stream",
     "text": [
      "<class '__main__.Student'>\n",
      "<class 'list'>\n"
     ]
    }
   ],
   "source": [
    "print(type(myobj1))\n",
    "print(type([]))"
   ]
  },
  {
   "cell_type": "code",
   "execution_count": 9,
   "metadata": {},
   "outputs": [
    {
     "name": "stdout",
     "output_type": "stream",
     "text": [
      "<__main__.Student object at 0x000002204FBC9848> <__main__.Student object at 0x000002204FB77948>\n"
     ]
    }
   ],
   "source": [
    "#You can create any number of objects\n",
    "s1=Student()\n",
    "s2=Student()\n",
    "s3=Student()\n",
    "print(s1,s2)"
   ]
  },
  {
   "cell_type": "code",
   "execution_count": 30,
   "metadata": {},
   "outputs": [],
   "source": [
    "#Adding attributes to individual objects\n",
    "#Format Object.attribute=Value\n",
    "s1.name=\"Rahul\"\n",
    "s1.Rollno=23\n",
    "s2.name=\"Arjun\"\n",
    "s3.Rollno=34\n",
    "\n"
   ]
  },
  {
   "cell_type": "markdown",
   "metadata": {},
   "source": [
    "Note that s1 has attributes \"name\",\"Rollno\" whereas s2 has only \"name\" and s3 has only \"Rollno\"."
   ]
  },
  {
   "cell_type": "code",
   "execution_count": 18,
   "metadata": {},
   "outputs": [
    {
     "name": "stdout",
     "output_type": "stream",
     "text": [
      "Rahul 23\n",
      "Arjun 34\n"
     ]
    }
   ],
   "source": [
    "print(s1.name,s1.Rollno)\n",
    "print(s2.name,s3.Rollno)\n"
   ]
  },
  {
   "cell_type": "code",
   "execution_count": 19,
   "metadata": {},
   "outputs": [
    {
     "ename": "AttributeError",
     "evalue": "'Student' object has no attribute 'Rollno'",
     "output_type": "error",
     "traceback": [
      "\u001b[1;31m---------------------------------------------------------------------------\u001b[0m",
      "\u001b[1;31mAttributeError\u001b[0m                            Traceback (most recent call last)",
      "\u001b[1;32m<ipython-input-19-2360aff6f525>\u001b[0m in \u001b[0;36m<module>\u001b[1;34m\u001b[0m\n\u001b[0;32m      1\u001b[0m \u001b[1;31m#If you try to print Rollno for s2 it will throw an error\u001b[0m\u001b[1;33m\u001b[0m\u001b[1;33m\u001b[0m\u001b[1;33m\u001b[0m\u001b[0m\n\u001b[1;32m----> 2\u001b[1;33m \u001b[0mprint\u001b[0m\u001b[1;33m(\u001b[0m\u001b[0ms2\u001b[0m\u001b[1;33m.\u001b[0m\u001b[0mRollno\u001b[0m\u001b[1;33m)\u001b[0m\u001b[1;33m\u001b[0m\u001b[1;33m\u001b[0m\u001b[0m\n\u001b[0m",
      "\u001b[1;31mAttributeError\u001b[0m: 'Student' object has no attribute 'Rollno'"
     ]
    }
   ],
   "source": [
    "#If you try to print Rollno for s2 it will throw an error\n",
    "print(s2.Rollno)"
   ]
  },
  {
   "cell_type": "code",
   "execution_count": 20,
   "metadata": {},
   "outputs": [
    {
     "name": "stdout",
     "output_type": "stream",
     "text": [
      "{'name': 'Rahul', 'Rollno': 23}\n",
      "{'name': 'Arjun'}\n",
      "{'Rollno': 34}\n"
     ]
    }
   ],
   "source": [
    "l=[s1,s2,s3]\n",
    "#To check attributes of given Objects we can use __dict__\n",
    "for i in l:\n",
    "    print(i.__dict__)"
   ]
  },
  {
   "cell_type": "code",
   "execution_count": 22,
   "metadata": {},
   "outputs": [
    {
     "name": "stdout",
     "output_type": "stream",
     "text": [
      "True\n",
      "False\n"
     ]
    }
   ],
   "source": [
    "#few Other functions\n",
    "print(hasattr(s1,\"name\"))\n",
    "print(hasattr(s2,\"Rollno\"))"
   ]
  },
  {
   "cell_type": "code",
   "execution_count": 23,
   "metadata": {},
   "outputs": [
    {
     "name": "stdout",
     "output_type": "stream",
     "text": [
      "Rahul\n"
     ]
    }
   ],
   "source": [
    "print(getattr(s1,\"name\"))\n"
   ]
  },
  {
   "cell_type": "code",
   "execution_count": 25,
   "metadata": {},
   "outputs": [
    {
     "ename": "AttributeError",
     "evalue": "'Student' object has no attribute 'Rollno'",
     "output_type": "error",
     "traceback": [
      "\u001b[1;31m---------------------------------------------------------------------------\u001b[0m",
      "\u001b[1;31mAttributeError\u001b[0m                            Traceback (most recent call last)",
      "\u001b[1;32m<ipython-input-25-44edb9465cff>\u001b[0m in \u001b[0;36m<module>\u001b[1;34m\u001b[0m\n\u001b[0;32m      1\u001b[0m \u001b[1;31m#If the given attribute is not there then your program will throw you an error\u001b[0m\u001b[1;33m\u001b[0m\u001b[1;33m\u001b[0m\u001b[1;33m\u001b[0m\u001b[0m\n\u001b[1;32m----> 2\u001b[1;33m \u001b[0mprint\u001b[0m\u001b[1;33m(\u001b[0m\u001b[0mgetattr\u001b[0m\u001b[1;33m(\u001b[0m\u001b[0ms2\u001b[0m\u001b[1;33m,\u001b[0m\u001b[1;34m\"Rollno\"\u001b[0m\u001b[1;33m)\u001b[0m\u001b[1;33m)\u001b[0m\u001b[1;33m\u001b[0m\u001b[1;33m\u001b[0m\u001b[0m\n\u001b[0m",
      "\u001b[1;31mAttributeError\u001b[0m: 'Student' object has no attribute 'Rollno'"
     ]
    }
   ],
   "source": [
    "#If the given attribute is not there then your program will throw you an error\n",
    "print(getattr(s2,\"Rollno\"))"
   ]
  },
  {
   "cell_type": "code",
   "execution_count": 27,
   "metadata": {},
   "outputs": [
    {
     "name": "stdout",
     "output_type": "stream",
     "text": [
      "26\n",
      "Rahul\n"
     ]
    }
   ],
   "source": [
    "#If you want to remove the above error You can pass an extra arguement called \"Default Arguement\"\n",
    "print(getattr(s2,\"Rollno\",26))\n",
    "print(getattr(s1,\"name\",\"Paul\"))"
   ]
  },
  {
   "cell_type": "code",
   "execution_count": 31,
   "metadata": {},
   "outputs": [
    {
     "name": "stdout",
     "output_type": "stream",
     "text": [
      "{}\n"
     ]
    }
   ],
   "source": [
    "#You can delete attributes of the objects\n",
    "delattr(s2,\"name\")\n",
    "print(s2.__dict__)"
   ]
  },
  {
   "cell_type": "markdown",
   "metadata": {},
   "source": [
    "<h4>Note:</h4>All these above attributes are called instance attributes\n"
   ]
  },
  {
   "cell_type": "code",
   "execution_count": 32,
   "metadata": {},
   "outputs": [
    {
     "name": "stdout",
     "output_type": "stream",
     "text": [
      "40\n"
     ]
    }
   ],
   "source": [
    "class Student:\n",
    "    passpercent=40#Class attribute\n",
    "s1=Student()\n",
    "print(s1.passpercent)"
   ]
  },
  {
   "cell_type": "code",
   "execution_count": 33,
   "metadata": {},
   "outputs": [
    {
     "name": "stdout",
     "output_type": "stream",
     "text": [
      "35\n"
     ]
    }
   ],
   "source": [
    "s1.passpercent=35\n",
    "print(s1.passpercent)"
   ]
  },
  {
   "cell_type": "markdown",
   "metadata": {},
   "source": [
    "So when you run the code it first checks for the instance attribute if it is found it prints that otherwise goes for class attribute"
   ]
  },
  {
   "cell_type": "markdown",
   "metadata": {},
   "source": [
    "<h3>selfparameter</h3>\n",
    "It is just to refer the object which is being called"
   ]
  },
  {
   "cell_type": "code",
   "execution_count": 48,
   "metadata": {},
   "outputs": [
    {
     "name": "stdout",
     "output_type": "stream",
     "text": [
      "Ankur\n",
      "Ankur\n"
     ]
    }
   ],
   "source": [
    "class Student:\n",
    "    def printstudentdetails(self):\n",
    "        self.name=\"Ankur\"\n",
    "        print(self.name)\n",
    "        \n",
    "st1=Student()\n",
    "#method1\n",
    "st1.printstudentdetails()\n",
    "\n",
    "#method2\n",
    "Student.printstudentdetails(st1)"
   ]
  },
  {
   "cell_type": "code",
   "execution_count": 51,
   "metadata": {},
   "outputs": [
    {
     "name": "stdout",
     "output_type": "stream",
     "text": [
      "Ankur\n",
      "80\n"
     ]
    }
   ],
   "source": [
    "class Student:\n",
    "    passingpercentage=40\n",
    "    def printstudentdetails(self):\n",
    "        self.name=\"Ankur\"#Accessible in whole class\n",
    "        print(self.name)\n",
    "        percentage=80#Locally accesible\n",
    "        print(percentage)\n",
    "        pass\n",
    "st1=Student()\n",
    "st1.printstudentdetails()"
   ]
  },
  {
   "cell_type": "code",
   "execution_count": 47,
   "metadata": {},
   "outputs": [
    {
     "name": "stdout",
     "output_type": "stream",
     "text": [
      "Ankur\n",
      "80\n"
     ]
    },
    {
     "ename": "NameError",
     "evalue": "name 'percentage' is not defined",
     "output_type": "error",
     "traceback": [
      "\u001b[1;31m---------------------------------------------------------------------------\u001b[0m",
      "\u001b[1;31mNameError\u001b[0m                                 Traceback (most recent call last)",
      "\u001b[1;32m<ipython-input-47-daffd6c57e5b>\u001b[0m in \u001b[0;36m<module>\u001b[1;34m\u001b[0m\n\u001b[0;32m     15\u001b[0m \u001b[1;33m\u001b[0m\u001b[0m\n\u001b[0;32m     16\u001b[0m \u001b[0mst1\u001b[0m\u001b[1;33m.\u001b[0m\u001b[0mprintstudentdetails\u001b[0m\u001b[1;33m(\u001b[0m\u001b[1;33m)\u001b[0m\u001b[1;33m\u001b[0m\u001b[1;33m\u001b[0m\u001b[0m\n\u001b[1;32m---> 17\u001b[1;33m \u001b[0mst1\u001b[0m\u001b[1;33m.\u001b[0m\u001b[0mispass\u001b[0m\u001b[1;33m(\u001b[0m\u001b[1;33m)\u001b[0m\u001b[1;33m\u001b[0m\u001b[1;33m\u001b[0m\u001b[0m\n\u001b[0m",
      "\u001b[1;32m<ipython-input-47-daffd6c57e5b>\u001b[0m in \u001b[0;36mispass\u001b[1;34m(self)\u001b[0m\n\u001b[0;32m      8\u001b[0m \u001b[1;33m\u001b[0m\u001b[0m\n\u001b[0;32m      9\u001b[0m     \u001b[1;32mdef\u001b[0m \u001b[0mispass\u001b[0m\u001b[1;33m(\u001b[0m\u001b[0mself\u001b[0m\u001b[1;33m)\u001b[0m\u001b[1;33m:\u001b[0m\u001b[1;33m\u001b[0m\u001b[1;33m\u001b[0m\u001b[0m\n\u001b[1;32m---> 10\u001b[1;33m         \u001b[1;32mif\u001b[0m \u001b[0mpercentage\u001b[0m\u001b[1;33m>\u001b[0m\u001b[0mStudent\u001b[0m\u001b[1;33m.\u001b[0m\u001b[0mpassingpercentage\u001b[0m\u001b[1;33m:\u001b[0m\u001b[1;33m\u001b[0m\u001b[1;33m\u001b[0m\u001b[0m\n\u001b[0m\u001b[0;32m     11\u001b[0m             \u001b[0mprint\u001b[0m\u001b[1;33m(\u001b[0m\u001b[1;34m\"PASS\"\u001b[0m\u001b[1;33m)\u001b[0m\u001b[1;33m\u001b[0m\u001b[1;33m\u001b[0m\u001b[0m\n\u001b[0;32m     12\u001b[0m         \u001b[1;32melse\u001b[0m\u001b[1;33m:\u001b[0m\u001b[1;33m\u001b[0m\u001b[1;33m\u001b[0m\u001b[0m\n",
      "\u001b[1;31mNameError\u001b[0m: name 'percentage' is not defined"
     ]
    }
   ],
   "source": [
    "class Student:\n",
    "    passingpercentage=40\n",
    "    def printstudentdetails(self):\n",
    "        self.name=\"Ankur\"#Accessible in whole class\n",
    "        print(self.name)\n",
    "        percentage=80#Locally accesible\n",
    "        print(percentage)\n",
    "        \n",
    "    def ispass(self):\n",
    "        if percentage>Student.passingpercentage:\n",
    "            print(\"PASS\")\n",
    "        else:\n",
    "            print(\"FAIL\")\n",
    "st1=Student()\n",
    "\n",
    "st1.printstudentdetails()\n",
    "st1.ispass()"
   ]
  },
  {
   "cell_type": "markdown",
   "metadata": {},
   "source": [
    "Here above it shows error because The Attribute \"percentage\" is set to local and will not be accesible in other functions"
   ]
  },
  {
   "cell_type": "code",
   "execution_count": 46,
   "metadata": {},
   "outputs": [
    {
     "name": "stdout",
     "output_type": "stream",
     "text": [
      "Ankur\n",
      "80\n",
      "PASS\n"
     ]
    }
   ],
   "source": [
    "class Student:\n",
    "    passingpercentage=40\n",
    "    def printstudentdetails(self):\n",
    "        self.name=\"Ankur\"#Accessible in whole class,Instance attribute \n",
    "        print(self.name)\n",
    "        self.percentage=80\n",
    "        print(self.percentage)\n",
    "        \n",
    "    def ispass(self):\n",
    "        if self.percentage>Student.passingpercentage:\n",
    "            print(\"PASS\")\n",
    "        else:\n",
    "            print(\"FAIL\")\n",
    "st1=Student()\n",
    "#So here while using functions it self=st1\n",
    "st1.printstudentdetails()\n",
    "st1.ispass()"
   ]
  },
  {
   "cell_type": "markdown",
   "metadata": {},
   "source": [
    "All the above discussed methods are instance mehtods, in all these we need to pass self as arguement\n",
    "Now we have static methods(@staticmethod) this is called decorator"
   ]
  },
  {
   "cell_type": "code",
   "execution_count": 45,
   "metadata": {},
   "outputs": [
    {
     "name": "stdout",
     "output_type": "stream",
     "text": [
      "Ankur\n",
      "80\n",
      "PASS\n",
      "Hey all !!\n"
     ]
    }
   ],
   "source": [
    "class Student:\n",
    "    passingpercentage=40\n",
    "    def printstudentdetails(self):\n",
    "        self.name=\"Ankur\"#Accessible in whole class,Instance attribute \n",
    "        print(self.name)\n",
    "        self.percentage=80\n",
    "        print(self.percentage)\n",
    "        \n",
    "    def ispass(self):\n",
    "        if self.percentage>Student.passingpercentage:\n",
    "            print(\"PASS\")\n",
    "        else:\n",
    "            print(\"FAIL\")\n",
    "    @staticmethod\n",
    "    def welcome():\n",
    "        print(\"Hey all !!\")\n",
    "st1=Student()\n",
    "#So here while using functions it self=st1\n",
    "st1.printstudentdetails()\n",
    "st1.ispass()\n",
    "st1.welcome()"
   ]
  },
  {
   "cell_type": "markdown",
   "metadata": {},
   "source": [
    "<h3>init method</h3>"
   ]
  },
  {
   "cell_type": "markdown",
   "metadata": {},
   "source": [
    "In all the above codes to create the attributes we need to run the function separately which isn't the reason we choose OOP for.\n",
    "So to create the attribute and all at the time of initialisation of the object itself we use init method"
   ]
  },
  {
   "cell_type": "code",
   "execution_count": 56,
   "metadata": {},
   "outputs": [
    {
     "name": "stdout",
     "output_type": "stream",
     "text": [
      "{'name': 'Ankur', 'percent': 90}\n",
      "{'name': 'Ankur', 'percent': 90}\n"
     ]
    }
   ],
   "source": [
    "class Student:\n",
    "    passingpercentage=40\n",
    "    def __init__(self):\n",
    "        self.name=\"Ankur\"\n",
    "        self.percent=90\n",
    "       \n",
    "    \n",
    "s1=Student()\n",
    "print(s1.__dict__)\n",
    "s2=Student()\n",
    "print(s2.__dict__)\n"
   ]
  },
  {
   "cell_type": "code",
   "execution_count": 5,
   "metadata": {},
   "outputs": [
    {
     "name": "stdout",
     "output_type": "stream",
     "text": [
      "{'name': 'Eoin', 'percent': 80}\n"
     ]
    }
   ],
   "source": [
    "class Student:\n",
    "    passingpercentage=40\n",
    "    def __init__(self,name,percent):\n",
    "        self.name=name\n",
    "        \n",
    "        self.percent=percent\n",
    "       \n",
    "        \n",
    "    \n",
    "s1=Student(\"Eoin\",80)\n",
    "print(s1.__dict__)\n"
   ]
  },
  {
   "cell_type": "markdown",
   "metadata": {},
   "source": [
    "<h4>Class Methods</h4>\n",
    "denoted by @classmethod.<br>\n",
    "This keyword used for functions if we want to return a class which can be used further<br>\n",
    "Example:\n",
    "\n"
   ]
  },
  {
   "cell_type": "code",
   "execution_count": 7,
   "metadata": {},
   "outputs": [
    {
     "name": "stdout",
     "output_type": "stream",
     "text": [
      "Madhav\n",
      "20\n",
      "89\n"
     ]
    }
   ],
   "source": [
    "from datetime import date\n",
    "class Student:\n",
    "    passingpercentage=40\n",
    "    def __init__(self,name,year,percent):\n",
    "        self.name=name\n",
    "        self.year=year\n",
    "        self.percent=percent\n",
    "    @classmethod\n",
    "    def dateofbirth(cls,name,year,percent):\n",
    "        return cls(name,date.today().year-year,percent)\n",
    "    def studentdetails(self):\n",
    "        print(self.name)\n",
    "        print(self.year)\n",
    "        print(self.percent)\n",
    "Student1=Student.dateofbirth(\"Madhav\",2001,89)\n",
    "Student1.studentdetails()"
   ]
  },
  {
   "cell_type": "markdown",
   "metadata": {},
   "source": [
    "Note that in above methods we didn't call init method we called the dateofbirth function which returned a class"
   ]
  },
  {
   "cell_type": "markdown",
   "metadata": {},
   "source": [
    "<h3>Public and Private modifiers</h3>\n",
    "Till now whatever variables we used are public variables which anybody from outisde can change there values.<br>\n",
    "For example:"
   ]
  },
  {
   "cell_type": "code",
   "execution_count": 9,
   "metadata": {},
   "outputs": [
    {
     "name": "stdout",
     "output_type": "stream",
     "text": [
      "Anand\n",
      "2002\n",
      "78\n",
      "------ now we have the modified values-----\n",
      "Mehta\n",
      "2003\n",
      "49\n"
     ]
    }
   ],
   "source": [
    "s1=Student(\"Anand\",2002,78)\n",
    "s1.studentdetails()\n",
    "s1.name=\"Mehta\"\n",
    "s1.year=2003\n",
    "s1.percent=49\n",
    "print(\"------ now we have the modified values-----\")\n",
    "s1.studentdetails()"
   ]
  },
  {
   "cell_type": "markdown",
   "metadata": {},
   "source": [
    "So to prevent this we use private Modifiers"
   ]
  },
  {
   "cell_type": "code",
   "execution_count": 11,
   "metadata": {},
   "outputs": [
    {
     "ename": "AttributeError",
     "evalue": "'Student' object has no attribute 'name'",
     "output_type": "error",
     "traceback": [
      "\u001b[1;31m---------------------------------------------------------------------------\u001b[0m",
      "\u001b[1;31mAttributeError\u001b[0m                            Traceback (most recent call last)",
      "\u001b[1;32m<ipython-input-11-4767bb9fda2d>\u001b[0m in \u001b[0;36m<module>\u001b[1;34m\u001b[0m\n\u001b[0;32m     14\u001b[0m         \u001b[0mprint\u001b[0m\u001b[1;33m(\u001b[0m\u001b[0mself\u001b[0m\u001b[1;33m.\u001b[0m\u001b[0mpercent\u001b[0m\u001b[1;33m)\u001b[0m\u001b[1;33m\u001b[0m\u001b[1;33m\u001b[0m\u001b[0m\n\u001b[0;32m     15\u001b[0m \u001b[0ms1\u001b[0m\u001b[1;33m=\u001b[0m\u001b[0mStudent\u001b[0m\u001b[1;33m(\u001b[0m\u001b[1;34m\"Anand\"\u001b[0m\u001b[1;33m,\u001b[0m\u001b[1;36m2002\u001b[0m\u001b[1;33m,\u001b[0m\u001b[1;36m78\u001b[0m\u001b[1;33m)\u001b[0m\u001b[1;33m\u001b[0m\u001b[1;33m\u001b[0m\u001b[0m\n\u001b[1;32m---> 16\u001b[1;33m \u001b[0mprint\u001b[0m\u001b[1;33m(\u001b[0m\u001b[0ms1\u001b[0m\u001b[1;33m.\u001b[0m\u001b[0mname\u001b[0m\u001b[1;33m)\u001b[0m\u001b[1;33m\u001b[0m\u001b[1;33m\u001b[0m\u001b[0m\n\u001b[0m",
      "\u001b[1;31mAttributeError\u001b[0m: 'Student' object has no attribute 'name'"
     ]
    }
   ],
   "source": [
    "from datetime import date\n",
    "class Student:\n",
    "    passingpercentage=40\n",
    "    def __init__(self,name,year,percent):\n",
    "        self.__name=name #name is made private variable\n",
    "        self.year=year\n",
    "        self.percent=percent\n",
    "    @classmethod\n",
    "    def dateofbirth(cls,name,year,percent):\n",
    "        return cls(name,date.today().year-year,percent)\n",
    "    def studentdetails(self):\n",
    "        print(self.__name)\n",
    "        print(self.year)\n",
    "        print(self.percent)\n",
    "s1=Student(\"Anand\",2002,78)\n",
    "print(s1.name)\n"
   ]
  },
  {
   "cell_type": "markdown",
   "metadata": {},
   "source": [
    "So in the above it shows an error 'Student' object has no attribute 'name' since we made name as private variable\n",
    "So we can neither modify it outside directly or call it"
   ]
  },
  {
   "cell_type": "code",
   "execution_count": 12,
   "metadata": {},
   "outputs": [
    {
     "name": "stdout",
     "output_type": "stream",
     "text": [
      "Anand\n",
      "2002\n",
      "78\n"
     ]
    }
   ],
   "source": [
    "#To print we can use print studentdetails function\n",
    "s1.studentdetails()"
   ]
  },
  {
   "cell_type": "markdown",
   "metadata": {},
   "source": [
    "So for making a variable private we need to add \"__\" infront of that variable name \n",
    "Example :\n",
    "   \" name \" is public variable\n",
    "   \" __name \" is Private variable"
   ]
  },
  {
   "cell_type": "markdown",
   "metadata": {},
   "source": [
    "<h4>Name Mangling</h4><br>\n",
    "This is a method to acces the private variables outside the class<br>\n",
    "Format: \"objname._class__variable\""
   ]
  },
  {
   "cell_type": "code",
   "execution_count": 13,
   "metadata": {},
   "outputs": [
    {
     "name": "stdout",
     "output_type": "stream",
     "text": [
      "Anand\n"
     ]
    }
   ],
   "source": [
    "print(s1._Student__name)"
   ]
  },
  {
   "cell_type": "markdown",
   "metadata": {},
   "source": [
    "<h2>Inheritance</h2>\n",
    "In this child class derives some of the properties from the parent class<br>\n",
    "Example:<br>\n",
    "We have Parent Class Shape() which has properties like color,Filled <br>\n",
    "Then we can have some derived classes like Rectangle() which also properties like color,Filled,Length,Breadth etc..\n",
    "So we can derive the common properties like color,Filled from the shape class.<br>\n",
    "Similarly if we have Circle() Class which has properties Color,Filled,Radius so color,Filled properties can be derived from Shape Class.\n",
    "So here we call Shape as Parent Class and Rectangle,Circle etc classes as Child Classes."
   ]
  },
  {
   "cell_type": "code",
   "execution_count": 1,
   "metadata": {},
   "outputs": [
    {
     "name": "stdout",
     "output_type": "stream",
     "text": [
      "red yes 9 3\n"
     ]
    }
   ],
   "source": [
    "class Shape:\n",
    "    def __init__(self,color,filled):\n",
    "        self.color=color\n",
    "        self.filled=filled\n",
    "\n",
    "class Rectangle(Shape):\n",
    "    def __init__(self,color,filled,length,breadth):\n",
    "        super().__init__(color,filled)\n",
    "        self.length=length\n",
    "        self.breadth=breadth\n",
    "    def printpro(self):\n",
    "        print(self.color,self.filled,self.length,self.breadth)\n",
    "\n",
    "        \n",
    "c=Rectangle(\"red\",\"yes\",9,3)\n",
    "c.printpro()\n",
    "        "
   ]
  },
  {
   "cell_type": "markdown",
   "metadata": {},
   "source": [
    "<h4>Inheritance and Private members</h4>"
   ]
  },
  {
   "cell_type": "code",
   "execution_count": 4,
   "metadata": {},
   "outputs": [
    {
     "name": "stdout",
     "output_type": "stream",
     "text": [
      "red yes 9 3\n"
     ]
    }
   ],
   "source": [
    "class Shape:\n",
    "    def __init__(self,color,filled):\n",
    "        self.color=color\n",
    "        self.__filled=filled\n",
    "    #You won't be able to acces this filled property outside the class but can be inherited so for that we can create a new method to return it.\n",
    "    def getfilledinf(self):\n",
    "        return self.__filled\n",
    "\n",
    "class Rectangle(Shape):\n",
    "    def __init__(self,color,filled,length,breadth):\n",
    "        super().__init__(color,filled)\n",
    "        self.length=length\n",
    "        self.breadth=breadth\n",
    "    def printpro(self):\n",
    "        print(self.color,self.getfilledinf(),self.length,self.breadth)\n",
    "\n",
    "        \n",
    "c=Rectangle(\"red\",\"yes\",9,3)\n",
    "c.printpro()"
   ]
  },
  {
   "cell_type": "markdown",
   "metadata": {},
   "source": [
    "Or in the above you can define a print method in Shape class itself and use it through Rectangle class to print the private members too"
   ]
  },
  {
   "cell_type": "markdown",
   "metadata": {},
   "source": [
    "<h2>Polymorphism</h2>\n",
    "Polymorphism is a feature of object-oriented programming languages that allows a specific routine to use variables of different types at different times<br>\n",
    "It is the ability of a programming language to present the same interface for several different underlying data types<br>\n",
    "It is the ability of different objects to respond in a unique way to the same message<br>"
   ]
  },
  {
   "cell_type": "code",
   "execution_count": 5,
   "metadata": {},
   "outputs": [
    {
     "name": "stdout",
     "output_type": "stream",
     "text": [
      "red yes\n",
      "9 3\n"
     ]
    }
   ],
   "source": [
    "class Shape:\n",
    "    def __init__(self,color,filled):\n",
    "        self.color=color\n",
    "        self.filled=filled\n",
    "    #You won't be able to acces this filled property outside the class but can be inherited so for that we can create a new method to return it.\n",
    "    def printin(self):\n",
    "        print(self.color,self.filled)\n",
    "\n",
    "class Rectangle(Shape):\n",
    "    def __init__(self,color,filled,length,breadth):\n",
    "        super().__init__(color,filled)\n",
    "        self.length=length\n",
    "        self.breadth=breadth\n",
    "    def printpro(self):\n",
    "        self.printin()\n",
    "        print(self.length,self.breadth)\n",
    "\n",
    "        \n",
    "c=Rectangle(\"red\",\"yes\",9,3)\n",
    "c.printpro()"
   ]
  },
  {
   "cell_type": "markdown",
   "metadata": {},
   "source": [
    "Explaination for the above:<br>\n",
    "So whenever we call for the c.printpro it calls that function and inside that it goes for self.printin function where it first check if that method is there in Child's class or not(Rectangle Class) if there isn't then it goes to parent Class and so on...."
   ]
  },
  {
   "cell_type": "code",
   "execution_count": null,
   "metadata": {},
   "outputs": [],
   "source": [
    "class Shape:\n",
    "    def __init__(self,color,filled):\n",
    "        self.color=color\n",
    "        self.filled=filled\n",
    "    #You won't be able to acces this filled property outside the class but can be inherited so for that we can create a new method to return it.\n",
    "    def printpro(self):\n",
    "        print(self.color,self.filled)\n",
    "\n",
    "class Rectangle(Shape):\n",
    "    def __init__(self,color,filled,length,breadth):\n",
    "        super().__init__(color,filled)\n",
    "        self.length=length\n",
    "        self.breadth=breadth\n",
    "    def printpro(self):\n",
    "        self.printpro()\n",
    "        print(self.length,self.breadth)\n",
    "\n",
    "        \n",
    "c=Rectangle(\"red\",\"yes\",9,3)\n",
    "c.printpro()"
   ]
  },
  {
   "cell_type": "markdown",
   "metadata": {},
   "source": [
    "So in the above code whenever we call for the c.printpro it calls that function and inside that it goes for self.printpro function where it first check if that method is there in Child's class or not(Rectangle Class) if its there  then it goes again to itself which causes infinite recursion ."
   ]
  },
  {
   "cell_type": "code",
   "execution_count": 1,
   "metadata": {},
   "outputs": [
    {
     "name": "stdout",
     "output_type": "stream",
     "text": [
      "9 3\n"
     ]
    }
   ],
   "source": [
    "class Shape:\n",
    "    def __init__(self,color,filled):\n",
    "        self.color=color\n",
    "        self.filled=filled\n",
    "    #You won't be able to acces this filled property outside the class but can be inherited so for that we can create a new method to return it.\n",
    "    def printpro(self):\n",
    "        print(self.color,self.filled)\n",
    "\n",
    "class Rectangle(Shape):\n",
    "    def __init__(self,color,filled,length,breadth):\n",
    "        super().__init__(color,filled)\n",
    "        self.length=length\n",
    "        self.breadth=breadth\n",
    "    def printpro(self):\n",
    "        #self.printpro()\n",
    "        print(self.length,self.breadth)\n",
    "\n",
    "        \n",
    "c=Rectangle(\"red\",\"yes\",9,3)\n",
    "c.printpro()"
   ]
  },
  {
   "cell_type": "markdown",
   "metadata": {},
   "source": [
    "<h3>Object Class</h3>\n",
    "Every class in Python is directly or indirectly derived from a built-in class called the\n",
    "Object class. If a class does not inherit any other class then it is a direct child class\n",
    "of Object and if inherits some other class then it is indirectly derived. Therefore the\n",
    "Object class methods are available to all Python classes. There are three such\n",
    "methods provided by the Object class:"
   ]
  },
  {
   "cell_type": "markdown",
   "metadata": {},
   "source": [
    "So Object class usually provieds three methods<br>\n",
    "<dl>\n",
    "    <dt>__new__</dt>\n",
    "    <dd>Used in instantiating a new object</dd>\n",
    "    <dt>__init__</dt>\n",
    "    <dd>: Used for initialising a new object. We usually override this method\n",
    "while defining the constructors for any object. If we don’t override it, the\n",
    "default constructor from the Object class gets called.\n",
    "</dd>\n",
    "    <dt>__str__</dt>\n",
    "    <dd> Returns a string representation of the object.\n",
    "</dd>\n",
    "</dl>"
   ]
  },
  {
   "cell_type": "code",
   "execution_count": 2,
   "metadata": {},
   "outputs": [
    {
     "name": "stdout",
     "output_type": "stream",
     "text": [
      "<__main__.Circle object at 0x000001BF5EF30188>\n"
     ]
    }
   ],
   "source": [
    "class Circle:\n",
    "    def __init__(self,Radius):\n",
    "        self.Radius=Radius\n",
    "c=Circle(6)\n",
    "print(c)"
   ]
  },
  {
   "cell_type": "code",
   "execution_count": 3,
   "metadata": {},
   "outputs": [
    {
     "name": "stdout",
     "output_type": "stream",
     "text": [
      "This is a circle class which takes radius as an arguement\n"
     ]
    }
   ],
   "source": [
    "class Circle(object):\n",
    "    def __init__(self,Radius):\n",
    "        self.Radius=Radius\n",
    "        \n",
    "    \n",
    "    def __str__(self):\n",
    "        return \"This is a circle class which takes radius as an arguement\"\n",
    "c=Circle(6)\n",
    "print(c)"
   ]
  },
  {
   "cell_type": "markdown",
   "metadata": {},
   "source": [
    "<h3>Multiple Inheritance</h3>\n",
    "<ul>\n",
    "<li> A class can be inherited from more than one superclass in Python, similar to\n",
    "C++. This is called multiple inheritance.</li>\n",
    "<li>In multiple inheritance, the features of all the superclasses are inherited into\n",
    "the subclass. The syntax for multiple inheritance is similar to single\n",
    "inheritance.</li>\n",
    "</ul>"
   ]
  },
  {
   "cell_type": "markdown",
   "metadata": {},
   "source": [
    "<h5>Example</h5><br>\n",
    "class SuperClass1:<br>\n",
    " &nbsp;&nbsp;pass<br>\n",
    "class SuperClass2:<br>\n",
    " &nbsp;&nbsp;pass<br>\n",
    "class SubClass(SuperClass1, SuperClass2):<br>\n",
    " &nbsp;&nbsp;pass<br>\n",
    "Here, the SubClass class is derived from SuperClass1 and SuperClass2 classes\n",
    "and it has access to all the instance attributes and methods from both these\n",
    "superclasses."
   ]
  },
  {
   "cell_type": "markdown",
   "metadata": {},
   "source": [
    "<h3>Multilevel Inheritance</h3><br>\n",
    "We can also inherit from a derived class. This is called multilevel inheritance. It\n",
    "can be of any depth in Python.<br>\n",
    "<h5>Example :</h5><br>\n",
    "class SuperClass:<br>\n",
    " &nbsp;&nbsp;pass<br>\n",
    "class SubClass(SuperClass):<br>\n",
    "&nbsp;&nbsp; pass<br>\n",
    "class SubSubClass(SubClass):<br>\n",
    " &nbsp;&nbsp;pass<br>"
   ]
  },
  {
   "cell_type": "code",
   "execution_count": 14,
   "metadata": {},
   "outputs": [
    {
     "name": "stdout",
     "output_type": "stream",
     "text": [
      "Anuj\n",
      "Father\n"
     ]
    }
   ],
   "source": [
    "class grandfather:\n",
    "    def print(self):\n",
    "        print(\"Grandfather \")\n",
    "class father:\n",
    "    def print(self):\n",
    "        print(\"Father\")\n",
    "class child(father,grandfather):\n",
    "    def __init__(self,name):\n",
    "        self.name=name\n",
    "    def printfam(self):\n",
    "        print(self.name)\n",
    "        \n",
    "c=child(\"Anuj\")\n",
    "c.printfam()\n",
    "c.print()"
   ]
  },
  {
   "cell_type": "markdown",
   "metadata": {},
   "source": [
    "So as we observe in the above result the order in which the classes are passed as arguements in child class decides the priority \n",
    "Since it is child(father,grandfather) whenever we try to use print it first goes to father class and checks whether there is any print or not .if it is there then it executes that method if not then proceeds further. "
   ]
  },
  {
   "cell_type": "code",
   "execution_count": 23,
   "metadata": {},
   "outputs": [
    {
     "name": "stdout",
     "output_type": "stream",
     "text": [
      "Grandfather \n",
      "Name is  Lenoah\n"
     ]
    }
   ],
   "source": [
    "class grandfather:\n",
    "    def __init__(self):\n",
    "        self.name=\"Lenoah\"\n",
    "    def print(self):\n",
    "        print(\"Grandfather \")\n",
    "class father:\n",
    "    def __init__(self):\n",
    "        self.name=\"Joseph\"\n",
    "    def print(self):\n",
    "        print(\"Father\")\n",
    "class child(grandfather,father):\n",
    "    def __init__(self):\n",
    "        super().__init__()\n",
    "    def printfam(self):\n",
    "        print(\"Name is \", self.name)\n",
    "        \n",
    "c=child()\n",
    "c.print()\n",
    "c.printfam()\n"
   ]
  },
  {
   "cell_type": "markdown",
   "metadata": {},
   "source": [
    "<h4>Method Resolution Order</h4>\n"
   ]
  },
  {
   "cell_type": "code",
   "execution_count": 19,
   "metadata": {},
   "outputs": [
    {
     "data": {
      "text/plain": [
       "[__main__.child, __main__.grandfather, __main__.father, object]"
      ]
     },
     "execution_count": 19,
     "metadata": {},
     "output_type": "execute_result"
    }
   ],
   "source": [
    "child.mro()"
   ]
  },
  {
   "cell_type": "code",
   "execution_count": 25,
   "metadata": {},
   "outputs": [
    {
     "name": "stdout",
     "output_type": "stream",
     "text": [
      "Name is  Joseph\n"
     ]
    }
   ],
   "source": [
    "class grandfather:\n",
    "    def __init__(self):\n",
    "        self.name=\"Lenoah\"\n",
    "        super().__init__()\n",
    "    def print(self):\n",
    "        print(\"Grandfather \")\n",
    "class father:\n",
    "    def __init__(self):\n",
    "        self.name=\"Joseph\"\n",
    "    def print(self):\n",
    "        print(\"Father\")\n",
    "class child(grandfather,father):\n",
    "    def __init__(self):\n",
    "        super().__init__()\n",
    "    def printfam(self):\n",
    "        print(\"Name is \", self.name)\n",
    "        \n",
    "c=child()\n",
    "\n",
    "c.printfam()"
   ]
  },
  {
   "cell_type": "markdown",
   "metadata": {},
   "source": [
    "Note: There is super()._ _init_ _() called in grandfather so father class is being called which changes name to \"joseph\""
   ]
  },
  {
   "cell_type": "code",
   "execution_count": 26,
   "metadata": {},
   "outputs": [
    {
     "data": {
      "text/plain": [
       "[__main__.child, __main__.grandfather, __main__.father, object]"
      ]
     },
     "execution_count": 26,
     "metadata": {},
     "output_type": "execute_result"
    }
   ],
   "source": [
    "child.mro()"
   ]
  },
  {
   "cell_type": "markdown",
   "metadata": {},
   "source": [
    "To get more clear picture regarding this go on to https://www.programiz.com/python-programming/multiple-inheritance"
   ]
  },
  {
   "cell_type": "markdown",
   "metadata": {},
   "source": [
    "<h4>Operator Overloading</h4>\n",
    "Overwriting the operators like '+', '-','+','<' etc using their methods  __add__,__sub__,__mul__,__lt__ etc"
   ]
  },
  {
   "cell_type": "code",
   "execution_count": 28,
   "metadata": {},
   "outputs": [
    {
     "name": "stdout",
     "output_type": "stream",
     "text": [
      "This point is at (4,6)\n"
     ]
    }
   ],
   "source": [
    "class Point:\n",
    "    def __init__(self,x,y):\n",
    "        self.__x = x\n",
    "        self.__y = y\n",
    "\n",
    "\n",
    "    def __str__(self):\n",
    "\n",
    "        return \"This point is at (\" + str(self.__x) + \",\" + str(self.__y) + \")\"\n",
    "\n",
    "    def __add__(self,point_object):\n",
    "        return Point(self.__x + point_object.__x,self.__y + point_object.__y)\n",
    "\n",
    "    \n",
    "\n",
    "\n",
    "p1 = Point(1,2)\n",
    "p2 = Point(3,4)\n",
    "p3 = p1 + p2\n",
    "print(p3)\n"
   ]
  }
 ],
 "metadata": {
  "kernelspec": {
   "display_name": "Python 3",
   "language": "python",
   "name": "python3"
  },
  "language_info": {
   "codemirror_mode": {
    "name": "ipython",
    "version": 3
   },
   "file_extension": ".py",
   "mimetype": "text/x-python",
   "name": "python",
   "nbconvert_exporter": "python",
   "pygments_lexer": "ipython3",
   "version": "3.7.7"
  }
 },
 "nbformat": 4,
 "nbformat_minor": 4
}
