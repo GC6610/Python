{
 "cells": [
  {
   "cell_type": "markdown",
   "metadata": {},
   "source": [
    "<h3>LinkedLists</h3>"
   ]
  },
  {
   "cell_type": "code",
   "execution_count": 33,
   "metadata": {},
   "outputs": [],
   "source": [
    "\n",
    "class Node:\n",
    "    def __init__(self,value):\n",
    "        self.value=value\n",
    "        self.next=None\n",
    "'''Making a linkedlist by using an normal list'''\n",
    "def insert(l):\n",
    "    head=None\n",
    "    for data in l:\n",
    "        \n",
    "        newnode=Node(data)\n",
    "        if head==None:\n",
    "            head=newnode\n",
    "        else:\n",
    "            currnode=head\n",
    "            while currnode.next!=None:\n",
    "                currnode=currnode.next\n",
    "            currnode.next=newnode\n",
    "    return head   "
   ]
  },
  {
   "cell_type": "code",
   "execution_count": 34,
   "metadata": {},
   "outputs": [],
   "source": [
    "\n",
    "def printll(head):\n",
    "    currn=head\n",
    "    while currn!=None:\n",
    "        print(currn.value,end=\" \")\n",
    "        currn=currn.next\n",
    "    print(\" \")    \n",
    "    "
   ]
  },
  {
   "cell_type": "code",
   "execution_count": 35,
   "metadata": {},
   "outputs": [
    {
     "name": "stdout",
     "output_type": "stream",
     "text": [
      "1 2 3 5 6 7 8 9 10  \n",
      "<__main__.Node object at 0x000001340DDC5488>\n"
     ]
    }
   ],
   "source": [
    "\n",
    "l=[1,2,3,5,6,7,8,9,10]\n",
    "head=insert(l)\n",
    "printll(head)\n",
    "print(head)"
   ]
  },
  {
   "cell_type": "code",
   "execution_count": 36,
   "metadata": {},
   "outputs": [],
   "source": [
    "'''Using tail and head'''\n",
    "def insertdll(l):\n",
    "    head=None\n",
    "    tail=None\n",
    "    for data in l:\n",
    "        newnode=Node(data)\n",
    "        if head==None:\n",
    "            head=newnode\n",
    "            tail=newnode\n",
    "        else:\n",
    "            tail.next=newnode\n",
    "            tail=newnode\n",
    "    return head   "
   ]
  },
  {
   "cell_type": "code",
   "execution_count": 37,
   "metadata": {},
   "outputs": [
    {
     "name": "stdout",
     "output_type": "stream",
     "text": [
      "1 2 3 5 6 7 8 9 10  \n",
      "<__main__.Node object at 0x000001340DDD8E48>\n"
     ]
    }
   ],
   "source": [
    "\n",
    "l=[1,2,3,5,6,7,8,9,10]\n",
    "head=insertdll(l)\n",
    "printll(head)\n",
    "print(head)"
   ]
  },
  {
   "cell_type": "code",
   "execution_count": 38,
   "metadata": {},
   "outputs": [],
   "source": [
    "'''Inserting at ith position'''\n",
    "def insertith(head,i,data):\n",
    "    newnode=Node(data)\n",
    "    j=0\n",
    "    \n",
    "    if i<0:\n",
    "        return head\n",
    "    if i==0:\n",
    "        \n",
    "        newnode.next=head\n",
    "        return newnode\n",
    "    t=head\n",
    "    while t!=None:\n",
    "        if j==i-1:\n",
    "            t2=t.next\n",
    "            t.next=newnode\n",
    "            t.next.next=t2\n",
    "            return head\n",
    "        else:\n",
    "            t=t.next\n",
    "            j=j+1\n",
    "  "
   ]
  },
  {
   "cell_type": "code",
   "execution_count": 39,
   "metadata": {},
   "outputs": [
    {
     "name": "stdout",
     "output_type": "stream",
     "text": [
      "1 2 3 5 6 7 8 9 10  \n",
      "--------------------------\n",
      "1 2 3 56 5 6 7 8 9 10  \n"
     ]
    }
   ],
   "source": [
    "l=[1,2,3,5,6,7,8,9,10]\n",
    "head=insertdll(l)\n",
    "printll(head)\n",
    "print(\"--------------------------\")\n",
    "head=insertith(head,3,56)\n",
    "printll(head)"
   ]
  },
  {
   "cell_type": "code",
   "execution_count": 40,
   "metadata": {},
   "outputs": [],
   "source": [
    "def deleteNode(head, pos) : \n",
    "    temp=head\n",
    "    i=0\n",
    "    if pos==0:\n",
    "        head=head.next\n",
    "        return head\n",
    "    \n",
    "    while temp!=None:\n",
    "        if pos-1==i:\n",
    "            if temp.next==None:\n",
    "                break\n",
    "            temp.next=temp.next.next\n",
    "            break\n",
    "            \n",
    "            \n",
    "        else:\n",
    "            i+=1\n",
    "            temp=temp.next\n",
    "        \n",
    "    return head"
   ]
  },
  {
   "cell_type": "code",
   "execution_count": 41,
   "metadata": {},
   "outputs": [
    {
     "name": "stdout",
     "output_type": "stream",
     "text": [
      "1 2 3 5 6 7 8 9 10  \n",
      "--------------------------\n",
      "1 2 3 6 7 8 9 10  \n"
     ]
    }
   ],
   "source": [
    "head=insertdll(l)\n",
    "printll(head)\n",
    "print(\"--------------------------\")\n",
    "head=deleteNode(head,3)\n",
    "printll(head)"
   ]
  },
  {
   "cell_type": "code",
   "execution_count": 42,
   "metadata": {},
   "outputs": [
    {
     "name": "stdout",
     "output_type": "stream",
     "text": [
      "5\n",
      "1\n",
      "0\n"
     ]
    }
   ],
   "source": [
    "'''Recursive approach to find length of a linkedlist'''\n",
    "def lengthRecursive(head): \n",
    "    if head==None:\n",
    "        return 0\n",
    "    if head.next==None:\n",
    "        return 1\n",
    "    l=1\n",
    "    return l+lengthRecursive(head.next)\n",
    "head1=insert([1,2,3,4,5])\n",
    "head2=insert([1])\n",
    "head3=insert([])\n",
    "print(lengthRecursive(head1))\n",
    "print(lengthRecursive(head2))\n",
    "print(lengthRecursive(head3))"
   ]
  },
  {
   "cell_type": "code",
   "execution_count": 43,
   "metadata": {},
   "outputs": [
    {
     "name": "stdout",
     "output_type": "stream",
     "text": [
      "1 2 3 4 5 7 8 9  \n",
      "--------------------\n",
      "1 2 3 4 5 6 7 8 9  \n"
     ]
    }
   ],
   "source": [
    "'''inserting at ith position in recursive manner into a linked list'''\n",
    "def rec_insert(head,i,data):\n",
    "    if i==0:\n",
    "        newnode=Node(data)\n",
    "        newnode.next=head\n",
    "        return newnode\n",
    "    small_head=rec_insert(head.next,i-1,data)\n",
    "    head.next=small_head\n",
    "    return head\n",
    "arr1=[1,2,3,4,5,7,8,9]\n",
    "head=insert(arr1)\n",
    "printll(head)\n",
    "print(\"--------------------\")\n",
    "head=rec_insert(head,5,6)\n",
    "printll(head)"
   ]
  },
  {
   "cell_type": "code",
   "execution_count": 44,
   "metadata": {},
   "outputs": [
    {
     "name": "stdout",
     "output_type": "stream",
     "text": [
      "1 2 3 4 5 6 7 8 9  \n",
      "-------------------------------\n",
      "1 2 3 4 6 7 8 9  \n"
     ]
    }
   ],
   "source": [
    "'''Recursive approach to delete a node at ith position'''\n",
    "def deleteNodeRec(head, i) :\n",
    "    if (i < 0) :\n",
    "        return head\n",
    "    if (head == None): \n",
    "        return None\n",
    "    if (i == 0) :\n",
    "        newnode = head.next\n",
    "        return newnode\n",
    "      \n",
    "    head.next = deleteNodeRec(head.next, i- 1) \n",
    "    return head\n",
    "printll(head)\n",
    "print('-------------------------------')\n",
    "head=deleteNodeRec(head,4)\n",
    "printll(head)"
   ]
  },
  {
   "cell_type": "code",
   "execution_count": 45,
   "metadata": {},
   "outputs": [
    {
     "name": "stdout",
     "output_type": "stream",
     "text": [
      "1 2 3 4 5 6  \n",
      "--------------------\n",
      "5 6 1 2 3 4  \n"
     ]
    }
   ],
   "source": [
    "'''Appending last n elements at first'''\n",
    "def appendLastNToFirst(head, n) :\n",
    "    \n",
    "    s=0\n",
    "    end=head\n",
    "    prev=head\n",
    "    while end!=None:\n",
    "        s=s+1\n",
    "        prev=end\n",
    "        end=end.next\n",
    "    \n",
    "    t=head\n",
    "    pr=head\n",
    "    for i in range(s-n):\n",
    "        pr=t\n",
    "        t=t.next\n",
    "    if t==None:\n",
    "        return head\n",
    "    pr.next=None\n",
    "    prev.next=head\n",
    "    head=t\n",
    "    return head\n",
    "arr1=[1,2,3,4,5,6]\n",
    "head=insert(arr1)\n",
    "printll(head)\n",
    "print(\"--------------------\")\n",
    "head=appendLastNToFirst(head,2)\n",
    "printll(head)\n",
    "\n",
    "\n"
   ]
  },
  {
   "cell_type": "code",
   "execution_count": 46,
   "metadata": {},
   "outputs": [
    {
     "name": "stdout",
     "output_type": "stream",
     "text": [
      "1 1 1 1 1 1 2 2 2 2 8 8 8 8 85 5 5 5 5 5 5  \n",
      "--------------------------\n",
      "1 2 8 85 5  \n"
     ]
    }
   ],
   "source": [
    "'''To remove duplicates in a linkedlist'''\n",
    "\n",
    "def removeDuplicates(head) :\n",
    "    if head==None:\n",
    "        return head\n",
    "    temp1=head\n",
    "    temp2=temp1.next\n",
    "    while temp1!=None and temp2!=None:\n",
    "        \n",
    "        if temp1.value==temp2.value:\n",
    "            temp1.next=temp2.next\n",
    "            temp2=temp2.next\n",
    "        else:\n",
    "            temp1=temp1.next\n",
    "            temp2=temp2.next\n",
    "\n",
    "    return head\n",
    "l=[1,1,1,1,1,1,2,2,2,2,8,8,8,8,85,5,5,5,5,5,5]\n",
    "head=insert(l)\n",
    "printll(head)\n",
    "print('--------------------------')\n",
    "head=removeDuplicates(head)\n",
    "printll(head)"
   ]
  },
  {
   "cell_type": "code",
   "execution_count": 47,
   "metadata": {},
   "outputs": [
    {
     "name": "stdout",
     "output_type": "stream",
     "text": [
      "5 5 5 5 5 5 85 8 8 8 8 2 2 2 2 1 1 1 1 1 1 "
     ]
    }
   ],
   "source": [
    "'''For printing Reverse linkedlist'''\n",
    "def printReverse(head) :\n",
    "    \n",
    "    l=[]\n",
    "    size=0\n",
    "    \n",
    "    while head!=None:\n",
    "        size+=1\n",
    "        l.append(head.value)\n",
    "        head=head.next\n",
    "    for i in range(size):\n",
    "        print(l.pop(),end=\" \")\n",
    "l=[1,1,1,1,1,1,2,2,2,2,8,8,8,8,85,5,5,5,5,5,5]\n",
    "head=insert(l)\n",
    "printReverse(head)"
   ]
  },
  {
   "cell_type": "code",
   "execution_count": 48,
   "metadata": {},
   "outputs": [
    {
     "name": "stdout",
     "output_type": "stream",
     "text": [
      "True\n",
      "False\n"
     ]
    }
   ],
   "source": [
    "'''To check if given linkedlist in palindrome or not'''\n",
    "def isPalindrome(head) :   \n",
    "    temp=head\n",
    "    size=0\n",
    "    while temp!=None:\n",
    "        size+=1\n",
    "        temp=temp.next\n",
    "    temp1=head\n",
    "    for i in range(size//2):\n",
    "        \n",
    "        temp2=head\n",
    "        for j in range(size-i-1):\n",
    "            temp2=temp2.next\n",
    "        \n",
    "        if temp1.value!=temp2.value:\n",
    "            return False\n",
    "        temp1=temp1.next\n",
    "    return True\n",
    "l1=[1,2,3,3,2,1]\n",
    "l2=[3,4,5,6,7,5,4,3]\n",
    "print(isPalindrome(insert(l1)))\n",
    "print(isPalindrome(insert(l2)))"
   ]
  },
  {
   "cell_type": "code",
   "execution_count": 49,
   "metadata": {},
   "outputs": [],
   "source": [
    "'''To reverse a linked list Recursive Approach O(n^2) Time complexity'''\n",
    "def reverseLinkedListRec(head) :\n",
    "    if head==None or head.next==None:\n",
    "        return head\n",
    "    smallhead=reverseLinkedListRec(head.next)\n",
    "    tail=smallhead\n",
    "    while tail.next!=None:\n",
    "        tail=tail.next\n",
    "    tail.next=head\n",
    "    head.next=None\n",
    "    return smallhead\n"
   ]
  },
  {
   "cell_type": "code",
   "execution_count": 50,
   "metadata": {},
   "outputs": [
    {
     "name": "stdout",
     "output_type": "stream",
     "text": [
      "5 5 85 8 8 2 2 1 1  \n"
     ]
    }
   ],
   "source": [
    "l=[1,1,2,2,8,8,85,5,5]\n",
    "head=insert(l)\n",
    "printll(reverseLinkedListRec(head))"
   ]
  },
  {
   "cell_type": "code",
   "execution_count": 51,
   "metadata": {},
   "outputs": [
    {
     "name": "stdout",
     "output_type": "stream",
     "text": [
      "12 9 7 6 4 3  \n"
     ]
    }
   ],
   "source": [
    "'''To reverse a linked list Recursive Approach using O(n) time complexity'''\n",
    "def reversell(head):\n",
    "    if head==None:\n",
    "        return head\n",
    "    if head.next==None:\n",
    "        return head,head\n",
    "    sh,st=reversell(head.next)\n",
    "    st.next=head\n",
    "    head.next=None\n",
    "    return sh,head\n",
    "l=[2,3,4,6,7,9,12]\n",
    "head=insert(l)\n",
    "head,tail=reversell(head.next)\n",
    "printll(head)"
   ]
  },
  {
   "cell_type": "code",
   "execution_count": 52,
   "metadata": {},
   "outputs": [
    {
     "name": "stdout",
     "output_type": "stream",
     "text": [
      "5 4 3 2  \n"
     ]
    }
   ],
   "source": [
    "'''Reversing a linkedlist without using tail O(n) time Complexity,Recursive Manner'''\n",
    "def reverse_ll(head):\n",
    "    if head.next==None or head==None:\n",
    "        return head\n",
    "    sh=reverse_ll(head.next)\n",
    "    tail=head.next\n",
    "    tail.next=head\n",
    "    head.next=None\n",
    "    return sh\n",
    "l=[2,3,4,5]\n",
    "head=insert(l)\n",
    "head=reverse_ll(head)\n",
    "printll(head)"
   ]
  },
  {
   "cell_type": "code",
   "execution_count": 53,
   "metadata": {},
   "outputs": [
    {
     "name": "stdout",
     "output_type": "stream",
     "text": [
      "5 4 3 2  \n"
     ]
    }
   ],
   "source": [
    "'''Reversing a linkedlist in Iterative process in O(n) time complexity '''\n",
    "\n",
    "def reverse_LL_it(head):\n",
    "    \n",
    "    if head==None or head.next==None:\n",
    "        return head\n",
    "    \n",
    "    prev=None\n",
    "    curr=head\n",
    "    while curr !=None:\n",
    "        next=curr.next\n",
    "        curr.next=prev\n",
    "        prev=curr\n",
    "        curr=next\n",
    "        \n",
    "    return prev\n",
    "l=[2,3,4,5]\n",
    "head=insert(l)\n",
    "head=reverse_LL_it(head)\n",
    "printll(head)  "
   ]
  },
  {
   "cell_type": "code",
   "execution_count": 54,
   "metadata": {},
   "outputs": [
    {
     "name": "stdout",
     "output_type": "stream",
     "text": [
      "4\n"
     ]
    }
   ],
   "source": [
    "'''To return the Mid element of a linkedlist when size is unknown :'''\n",
    "def midPoint(head) :\n",
    "    \n",
    "    if head==None or head.next==None:\n",
    "        return head\n",
    "    curr=head\n",
    "    n=0\n",
    "    while curr!=None:\n",
    "        n+=1\n",
    "        curr=curr.next\n",
    "    n=(n-1)//2\n",
    "    idx=0\n",
    "    curr=head\n",
    "    while 1:\n",
    "        if idx==n:\n",
    "            return curr\n",
    "        curr=curr.next\n",
    "        idx+=1\n",
    "l=[2,3,4,5,6]\n",
    "head=insert(l)\n",
    "mid_node=midPoint(head)\n",
    "print(mid_node.value)     "
   ]
  },
  {
   "cell_type": "code",
   "execution_count": 55,
   "metadata": {},
   "outputs": [
    {
     "name": "stdout",
     "output_type": "stream",
     "text": [
      "5\n"
     ]
    }
   ],
   "source": [
    "'''more effiecient Solution for finding mid element in linkedlist'''\n",
    "def mid_elem(head):\n",
    "    if head==None or head.next==None:\n",
    "        return None\n",
    "    p1=head\n",
    "    p2=head\n",
    "    while p2.next!=None and p2.next.next!=None:\n",
    "        p1=p1.next\n",
    "        \n",
    "        p2=p2.next.next\n",
    "    return p1\n",
    "l=[2,3,4,5,6,7,8]\n",
    "head=insert(l)\n",
    "mid_node=mid_elem(head)\n",
    "print(mid_node.value)  "
   ]
  },
  {
   "cell_type": "code",
   "execution_count": 56,
   "metadata": {},
   "outputs": [
    {
     "name": "stdout",
     "output_type": "stream",
     "text": [
      "0 2 4 5 6 7 8 9 10 11 12 13  \n"
     ]
    }
   ],
   "source": [
    "'''Merging two sorted linkedlists '''\n",
    "def mergell(head1,head2):\n",
    "    if head1==None :\n",
    "        return head2\n",
    "    elif head2==None:\n",
    "        return head1\n",
    "    fh=None\n",
    "    ft=None\n",
    "    if head1.value>=head2.value:\n",
    "        ft=fh=head2\n",
    "        head2=head2.next\n",
    "    \n",
    "    else:\n",
    "        ft=fh=head1\n",
    "        head1=head1.next\n",
    "    while head1!=None and head2!=None:\n",
    "        if head1.value>=head2.value:\n",
    "            ft.next=head2\n",
    "            ft=ft.next\n",
    "            head2=head2.next\n",
    "        else:\n",
    "            ft.next=head1\n",
    "            ft=ft.next\n",
    "            head1=head1.next\n",
    "    while head1!=None:\n",
    "        ft.next=head1\n",
    "        ft=ft.next\n",
    "        head1=head1.next\n",
    "    while head2!=None:\n",
    "        ft.next=head2\n",
    "        ft=ft.next\n",
    "        head2=head2.next\n",
    "    return fh\n",
    "            \n",
    "h1=insert([2,5,9,10,11,12,13])    \n",
    "h2=insert([0,4,6,7,8])      \n",
    "headf=mergell(h1,h2)\n",
    "printll(headf)\n",
    "        \n",
    "    "
   ]
  },
  {
   "cell_type": "code",
   "execution_count": 57,
   "metadata": {},
   "outputs": [
    {
     "name": "stdout",
     "output_type": "stream",
     "text": [
      "0 4 6 7 8 23 34 67  \n"
     ]
    }
   ],
   "source": [
    "'''MergeSort algorithm on a Linkedlist'''\n",
    "def mergeSortLL(head1):\n",
    "    \n",
    "    if head1==None or head1.next==None:\n",
    "        return head1\n",
    "    mid=mid_elem(head1)\n",
    "    head2=mid.next\n",
    "    mid.next=None\n",
    "    left=mergeSortLL(head1)\n",
    "    right=mergeSortLL(head2)\n",
    "    return mergell(left,right)\n",
    "    \n",
    "head=insert([0,4,6,34,23,67,7,8])\n",
    "myhe=mergeSortLL(head)\n",
    "printll(myhe)"
   ]
  },
  {
   "cell_type": "code",
   "execution_count": 58,
   "metadata": {},
   "outputs": [
    {
     "name": "stdout",
     "output_type": "stream",
     "text": [
      "3\n",
      "-1\n"
     ]
    }
   ],
   "source": [
    "'''Finding a Position of a Node in Recursive manner'''\n",
    "def findNodeRec(head, n,i) :\n",
    "\t\n",
    "    if  head==None :\n",
    "        return -1\n",
    "    \n",
    "    if head.value==n:\n",
    "        return i\n",
    "    else:\n",
    "        return findNodeRec(head.next,n,i+1)\n",
    "h=insert([1,2,3,4,5,6,8,9])\n",
    "print(findNodeRec(h,4,0))\n",
    "print(findNodeRec(h,7,0))"
   ]
  },
  {
   "cell_type": "code",
   "execution_count": 59,
   "metadata": {},
   "outputs": [
    {
     "name": "stdout",
     "output_type": "stream",
     "text": [
      "1 2 3 4 5 6 8 9 10 11 12 13 14 15 16  \n",
      "1 2 3 6 8 9 12 13 14  \n"
     ]
    }
   ],
   "source": [
    "'''Keeping firs M nodes and deleting remaining N nodes repeat same steps until Linkedl list ends'''\n",
    "\n",
    "def skipMdeleteN(head, M, N) :\n",
    "\t\n",
    "    if M==0:\n",
    "        return None\n",
    "    elif N==0 or head==None:\n",
    "        return head\n",
    "    sh=head\n",
    "    idx1=0\n",
    "    while head!=None:\n",
    "        if idx1==M-1:\n",
    "            break\n",
    "        head=head.next\n",
    "        idx1+=1\n",
    "    while head!=None:\n",
    "        \n",
    "        idx2=0\n",
    "        while head!=None and head.next!=None:\n",
    "            if idx2==N:\n",
    "                break\n",
    "            head.next=head.next.next\n",
    "            idx2+=1\n",
    "        idx1=0\n",
    "        while head!=None:\n",
    "            if idx1==M:\n",
    "                break\n",
    "            head=head.next\n",
    "            idx1+=1\n",
    "    return sh\n",
    "h=insert([1,2,3,4,5,6,8,9,10,11,12,13,14,15,16])\n",
    "printll(h)\n",
    "h=skipMdeleteN(h, 3, 2) \n",
    "printll(h)"
   ]
  },
  {
   "cell_type": "code",
   "execution_count": 60,
   "metadata": {},
   "outputs": [
    {
     "name": "stdout",
     "output_type": "stream",
     "text": [
      "1 3 4 2 5 7 5 3 9 10 23 44 66  \n",
      "1 3 5 7 5 3 9 23 4 2 10 44 66  \n"
     ]
    }
   ],
   "source": [
    "'''For a given singly linked list of integers,arrange the elements such that all the even numbers are placed \n",
    "after the odd numbers. The relative order of the odd and even terms should remain unchanged.'''\n",
    "\n",
    "def evenAfterOdd(head) :\n",
    "    \n",
    "    if head==None or head.next==None:\n",
    "        return head\n",
    "    oh=None\n",
    "    ot=None\n",
    "    eh=None\n",
    "    et=None\n",
    "    while head!=None:\n",
    "        if head.value%2==0:\n",
    "            if eh==None:\n",
    "                eh=head\n",
    "                et=head\n",
    "                head=head.next\n",
    "            else:\n",
    "                et.next=head\n",
    "                et=head\n",
    "                head=head.next\n",
    "        else :\n",
    "            if oh==None:\n",
    "                oh=head\n",
    "                ot=head\n",
    "                head=head.next\n",
    "            else:\n",
    "                ot.next=head\n",
    "                ot=head\n",
    "                head=head.next\n",
    "    \n",
    "    if oh==None:\n",
    "        return eh\n",
    "    ot.next=None\n",
    "    if et!=None:\n",
    "        et.next=None\n",
    "    ot.next=eh\n",
    "    return oh\n",
    "l=[1,3,4,2,5,7,5,3,9,10,23,44,66]\n",
    "head=insert(l)\n",
    "printll(head)\n",
    "head=evenAfterOdd(head)\n",
    "printll(head)\n",
    "\n"
   ]
  },
  {
   "cell_type": "code",
   "execution_count": 61,
   "metadata": {},
   "outputs": [
    {
     "name": "stdout",
     "output_type": "stream",
     "text": [
      "1 3 4 2 5 7 5 3 9 10 23 44 66  \n",
      "--------------------\n",
      "1 9 4 2 5 7 5 3 3 10 23 44 66  \n"
     ]
    }
   ],
   "source": [
    "'''Swapping two values in linkedlist given positions i,j'''\n",
    "def swapvalues(head, i, j) :\n",
    "\t\n",
    "    mn=min(i,j)\n",
    "    mx=max(i,j)\n",
    "    d1=0\n",
    "    d2=0\n",
    "    idx=0\n",
    "    temp=head\n",
    "    while idx<=mx:\n",
    "        if idx==mn:\n",
    "            d1=temp.value\n",
    "        if idx==mx:\n",
    "            d2=temp.value\n",
    "        temp=temp.next\n",
    "        idx+=1\n",
    "    \n",
    "    temp=head\n",
    "    idx=0\n",
    "    while idx<=mx:\n",
    "        if idx==mn:\n",
    "            temp.value=d2\n",
    "        if idx==mx:\n",
    "            temp.value=d1\n",
    "        temp=temp.next\n",
    "        idx+=1\n",
    "    return head\n",
    "l=[1,3,4,2,5,7,5,3,9,10,23,44,66]\n",
    "head=insert(l)\n",
    "printll(head)\n",
    "head1=swapvalues(head,1, 8)\n",
    "print('--------------------')\n",
    "printll(head1)\n"
   ]
  },
  {
   "cell_type": "code",
   "execution_count": 62,
   "metadata": {},
   "outputs": [
    {
     "name": "stdout",
     "output_type": "stream",
     "text": [
      "2 3 4 1 5 6 7 9  \n",
      "---------------------\n",
      "2 3 7 6 5 1 4 9  \n",
      "---------------------\n",
      "2 3 7 6 5 1 4 9  \n"
     ]
    }
   ],
   "source": [
    "'''Swapping two nodes in LinkedLists (not just data as before case)'''\n",
    "def swapnodes(head,i,j):\n",
    "    pi=None\n",
    "    curr_i=head\n",
    "    pj=None\n",
    "    curr_j=head\n",
    "    idx=0\n",
    "    \n",
    "    while curr_i!=None and idx!=i:\n",
    "        \n",
    "        pi=curr_i\n",
    "        curr_i=curr_i.next\n",
    "        idx+=1\n",
    "    idx=0\n",
    "    while curr_j!=None and idx!=j:\n",
    "        pj=curr_j\n",
    "        curr_j=curr_j.next\n",
    "        idx+=1\n",
    "\n",
    "    if curr_i==None or curr_j==None:\n",
    "        return head\n",
    "    if pi==None:\n",
    "        head=curr_j\n",
    "    else:\n",
    "        pi.next=curr_j\n",
    "    if pj==None:\n",
    "        head=curr_i\n",
    "    else:\n",
    "        pj.next=curr_i\n",
    "    \n",
    "    #Swapping two next nodes of i,j postions \n",
    "    temp=curr_i.next\n",
    "    curr_i.next=curr_j.next\n",
    "    curr_j.next=temp\n",
    "    return head\n",
    "l=[2,3,4,1,5,6,7,9]\n",
    "head=insert(l)\n",
    "printll(head)\n",
    "print('---------------------')\n",
    "head1=swapnodes(head,2,6)\n",
    "head2=swapnodes(head,3,5)\n",
    "printll(head1)\n",
    "print('---------------------')\n",
    "printll(head2)"
   ]
  },
  {
   "cell_type": "code",
   "execution_count": 63,
   "metadata": {},
   "outputs": [
    {
     "name": "stdout",
     "output_type": "stream",
     "text": [
      "2 3 4 5 6 7 8 9 10 11 12  \n",
      "------------------\n",
      "3 2 5 4 7 6 9 8 11 10 12  \n"
     ]
    }
   ],
   "source": [
    "'''Reverse a linkedlist iteratively on every k terms\n",
    "Example 1-2-3-4-5-6-7    k=2\n",
    "        after modification it will be\n",
    "        2-1-4-3-6-5-7\n",
    "        '''\n",
    "def kReverse(head, k) :\n",
    "    if k==0 or k==1:\n",
    "        return head\n",
    "    th=None\n",
    "    tt=None\n",
    "    while head!=None:\n",
    "        idx=0\n",
    "        sh=None\n",
    "        st=None\n",
    "        prev=None\n",
    "        while idx<k and head!=None:\n",
    "            if idx==0:\n",
    "                sh=head\n",
    "                st=head\n",
    "                \n",
    "                head=head.next\n",
    "                idx+=1\n",
    "                \n",
    "            else:\n",
    "                st.next=head\n",
    "                st=head\n",
    "                head=head.next\n",
    "                idx+=1  \n",
    "        st.next=None\n",
    "        prev=None\n",
    "        curr=sh\n",
    "        while curr !=None:\n",
    "           next=curr.next\n",
    "           curr.next=prev\n",
    "           prev=curr\n",
    "           curr=next\n",
    "        if th==None:\n",
    "            th=prev\n",
    "            tt=sh    \n",
    "        else:\n",
    "            tt.next=prev\n",
    "            tt=sh\n",
    "    return th\n",
    "\n",
    "l=[2 ,3 ,4 ,5 ,6 ,7 ,8 ,9 ,10 ,11 ,12]\n",
    "head=insert(l)\n",
    "printll(head)\n",
    "print('------------------')\n",
    "head1=kReverse(head,2)\n",
    "\n",
    "printll(head1)\n"
   ]
  },
  {
   "cell_type": "code",
   "execution_count": 64,
   "metadata": {},
   "outputs": [
    {
     "name": "stdout",
     "output_type": "stream",
     "text": [
      "1 2 3 4 5 12 23 34 56 67  \n",
      "---------------------- \n",
      "1 2 3 4 5 12 23 34 56 67  \n"
     ]
    }
   ],
   "source": [
    "'''Bubble sort Algorithm on Linkedlist (here the values are swapped and not the nodes )'''\n",
    "def BubbleSort(head) :\n",
    "       \n",
    "        if head != None:\n",
    "            while True:\n",
    "                flag = 0\n",
    "                temp = head\n",
    "                while(temp.next != None):\n",
    "                    if temp.value > temp.next.value:\n",
    "                        flag= 1\n",
    "                        pt = temp.value\n",
    "                        temp.value = temp.next.value\n",
    "                        temp.next.value = pt\n",
    "                        temp = temp.next\n",
    "                    else:\n",
    "                        temp = temp.next\n",
    "\n",
    "                if flag == 0:\n",
    "                    break\n",
    "                else:\n",
    "                    continue\n",
    "\n",
    "\n",
    "\n",
    "            return head\n",
    "        else:\n",
    "            return head\n",
    "\n",
    "l=[2,1,3,5,4,67,12,34,23,56]\n",
    "head=insert(l)\n",
    "head1=BubbleSort(head)\n",
    "printll(head)\n",
    "print(\"---------------------- \")\n",
    "printll(head1)\n"
   ]
  },
  {
   "cell_type": "code",
   "execution_count": null,
   "metadata": {},
   "outputs": [],
   "source": []
  }
 ],
 "metadata": {
  "kernelspec": {
   "display_name": "Python 3",
   "language": "python",
   "name": "python3"
  },
  "language_info": {
   "codemirror_mode": {
    "name": "ipython",
    "version": 3
   },
   "file_extension": ".py",
   "mimetype": "text/x-python",
   "name": "python",
   "nbconvert_exporter": "python",
   "pygments_lexer": "ipython3",
   "version": "3.7.7"
  }
 },
 "nbformat": 4,
 "nbformat_minor": 4
}
