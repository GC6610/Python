{
 "cells": [
  {
   "cell_type": "markdown",
   "metadata": {},
   "source": [
    "<h3>Dynamic Programming</h3>"
   ]
  },
  {
   "cell_type": "code",
   "execution_count": 2,
   "metadata": {},
   "outputs": [
    {
     "name": "stdout",
     "output_type": "stream",
     "text": [
      "123\n"
     ]
    },
    {
     "data": {
      "text/plain": [
       "22698374052006863956975682"
      ]
     },
     "execution_count": 2,
     "metadata": {},
     "output_type": "execute_result"
    }
   ],
   "source": [
    "'''naive (recursive) solution for Fibonacci series '''\n",
    "def fib(n,dp):\n",
    "    if n==0 or n==1:\n",
    "        return n\n",
    "    if dp[n-1]==-1:  \n",
    "        dp[n-1]=fib(n-1,dp)\n",
    "    if dp[n-2]==-1:\n",
    "         dp[n-2]=fib(n-2,dp)  \n",
    "    return dp[n-1]+dp[n-2]\n",
    "n=int(input())\n",
    "dp=[-1 for i in range(n+1)]\n",
    "fib(n,dp)"
   ]
  },
  {
   "cell_type": "code",
   "execution_count": 32,
   "metadata": {},
   "outputs": [
    {
     "name": "stdout",
     "output_type": "stream",
     "text": [
      "100\n"
     ]
    },
    {
     "data": {
      "text/plain": [
       "354224848179261915075"
      ]
     },
     "execution_count": 32,
     "metadata": {},
     "output_type": "execute_result"
    }
   ],
   "source": [
    "'''SOlving Fibonacci using dp '''\n",
    "def fibonacci(n):\n",
    "    dp1=[0 for i in range(n+1)]\n",
    "    dp1[1]=1\n",
    "    for i in range(2,n+1):\n",
    "        dp1[i]=dp1[i-1]+dp1[i-2]\n",
    "    return dp1[n]\n",
    "n=int(input())\n",
    "fibonacci(n)"
   ]
  },
  {
   "cell_type": "code",
   "execution_count": 5,
   "metadata": {},
   "outputs": [
    {
     "name": "stdout",
     "output_type": "stream",
     "text": [
      "72\n",
      "5\n"
     ]
    }
   ],
   "source": [
    "'''Given a positive integer 'n', find and return the minimum number of steps that 'n' has to take to get \n",
    "reduced to 1. You can perform any one of the following 3 steps:\n",
    "1.) Subtract 1 from it. (n = n -1) ,\n",
    "2.) If n is divisible by 2, divide by 2.( if n % 2 == 0, then n = n / 2 ) ,\n",
    "3.) If n is divisible by 3, divide by 3. (if n % 3 == 0, then n = n / 3 ).  '''\n",
    "import sys\n",
    "sys.setrecursionlimit(10**6)\n",
    "def minsteps(n,dp):\n",
    "    if n==1:\n",
    "        return 0\n",
    "    ans1=sys.maxsize\n",
    "    ans2=sys.maxsize\n",
    "    if n%3==0:\n",
    "        if dp[n//3]==-1:\n",
    "            ans1=minsteps(n//3,dp)\n",
    "            dp[n//3]=ans1\n",
    "        else:\n",
    "            ans1=dp[n//3]\n",
    "    if n%2==0:\n",
    "        if dp[n//2]==-1:\n",
    "            ans2=minsteps(n//2,dp)\n",
    "            dp[n//2]=ans2\n",
    "        else:\n",
    "            ans2=dp[n//3] \n",
    "    if dp[n-1]==-1:  \n",
    "        ans3=minsteps(n-1,dp)\n",
    "        dp[n-1]=ans3\n",
    "    else:\n",
    "        ans3=dp[n-1]\n",
    "    ans=1+min(ans1,ans2,ans3)\n",
    "    return ans\n",
    "n = int(input())\n",
    "dp=[-1 for i in range(n+1)]\n",
    "ans=minsteps(n,dp)\n",
    "print(ans)"
   ]
  },
  {
   "cell_type": "code",
   "execution_count": 10,
   "metadata": {},
   "outputs": [
    {
     "name": "stdout",
     "output_type": "stream",
     "text": [
      "13\n",
      "2\n"
     ]
    }
   ],
   "source": [
    "'''A number can always be represented as a sum of squares of other numbers. Note that 1 is a square \n",
    "and we can always break a number as [(1 * 1) + (1 * 1) + (1 * 1) + …]. Given a number n, find the minimum \n",
    "number of squares that sum to n.'''\n",
    "\n",
    "'''Recursive Solution'''\n",
    "def minsquare(n):\n",
    "    if n==0:\n",
    "        return 0\n",
    "    mini=10**9\n",
    "    for i in range(1,int(n**(1/2))+1):\n",
    "        ans=minsquare(n-i**2)\n",
    "        mini=min(ans,mini)\n",
    "    return 1+mini\n",
    "print(minsquare(int(input())))\n",
    "        "
   ]
  },
  {
   "cell_type": "code",
   "execution_count": 11,
   "metadata": {},
   "outputs": [
    {
     "name": "stdout",
     "output_type": "stream",
     "text": [
      "112\n",
      "4\n"
     ]
    }
   ],
   "source": [
    "'''DP Memoization'''\n",
    "def minStepsTo1(n,dp):\n",
    "    if n==0:\n",
    "        return 0\n",
    "    dp[0]=0\n",
    "    dp[1]=1\n",
    "    mini=10**9\n",
    "    for i in range(1,int(n**(1/2))+1):\n",
    "        if dp[n-i**2]==-1:\n",
    "            dp[n-i**2]=minStepsTo1(n-i**2,dp)\n",
    "            mini=min(mini,dp[n-i**2])    \n",
    "        else:\n",
    "            mini=min(mini,dp[n-i**2])  \n",
    "    dp[n]=1+mini\n",
    "    return dp[n]\n",
    "\n",
    "n=int(input())\n",
    "dp=[-1 for i in range(n+1)]\n",
    "print(minStepsTo1(n,dp))   "
   ]
  },
  {
   "cell_type": "code",
   "execution_count": 12,
   "metadata": {},
   "outputs": [
    {
     "name": "stdout",
     "output_type": "stream",
     "text": [
      "112\n",
      "4\n"
     ]
    }
   ],
   "source": [
    "'''DP Iterative Solution'''\n",
    "def minSteps(n):\n",
    "    dp=[-1 for i in range(n+1)]\n",
    "    dp[0]=0\n",
    "    for i in range(1,n+1):\n",
    "        ans=sys.maxsize\n",
    "        for j in range(1,int(i**(1/2))+1):\n",
    "            curr=1+dp[i-j**2]\n",
    "            ans=min(ans,curr)\n",
    "        dp[i]=ans\n",
    "    return dp[n]\n",
    "n=int(input())\n",
    "print(minSteps(n))"
   ]
  },
  {
   "cell_type": "code",
   "execution_count": 2,
   "metadata": {},
   "outputs": [
    {
     "name": "stdout",
     "output_type": "stream",
     "text": [
      "3 4\n",
      "3 4 1 2\n",
      "2 1 8 9\n",
      "4 7 8 1\n",
      "13\n"
     ]
    }
   ],
   "source": [
    "'''An integer matrix of size (M x N) has been given. Find out the minimum cost to reach from the cell (0, 0) to (M - 1, N - 1).\n",
    "From a cell (i, j), you can move in three directions:\n",
    "1. ((i + 1),  j) which is, \"down\"\n",
    "2. (i, (j + 1)) which is, \"to the right\"\n",
    "3. ((i+1), (j+1)) which is, \"to the diagonal\"\n",
    "'''\n",
    "MAX_VALUE = 2147483647\n",
    "def minCostPathRec(input, m, n) :\n",
    "    k1=MAX_VALUE\n",
    "    k2=MAX_VALUE\n",
    "    k3=MAX_VALUE\n",
    "    if m<mRows-1:\n",
    "        k1=minCostPathRec(input, m+1, n)\n",
    "    if n<nCols-1:\n",
    "        k2=minCostPathRec(input, m, n+1)\n",
    "    if m<mRows-1 and n<nCols-1:\n",
    "        k3=minCostPathRec(input, m+1, n+1)\n",
    "    if min(k1,k2,k3)==MAX_VALUE:\n",
    "        return input[m][n]\n",
    "    return input[m][n]+min(k1,k2,k3)\n",
    "def take2DInput() :\n",
    "    li = list(map(int,input().split()))\n",
    "    mRows = int(li[0])\n",
    "    nCols = int(li[1])  \n",
    "    if mRows == 0 :\n",
    "        return list(), 0, 0    \n",
    "    mat = [list(map(int, input().strip().split(\" \"))) for row in range(mRows)]\n",
    "    return mat, mRows, nCols\n",
    "mat, mRows, nCols = take2DInput()\n",
    "print(minCostPathRec(mat, 0, 0))\n",
    "\n",
    "          "
   ]
  },
  {
   "cell_type": "code",
   "execution_count": 6,
   "metadata": {},
   "outputs": [
    {
     "name": "stdout",
     "output_type": "stream",
     "text": [
      "3 4\n",
      "3 4 1 2\n",
      "2 1 8 9\n",
      "4 7 8 1\n",
      "13\n"
     ]
    }
   ],
   "source": [
    "'''Using DP'''\n",
    "def minCostPath(input, m, n,dp) :\n",
    "    k1=MAX_VALUE\n",
    "    k2=MAX_VALUE\n",
    "    k3=MAX_VALUE\n",
    "    if m<mRows-1:\n",
    "        if dp[m+1][n]==-1:\n",
    "            k1=minCostPath(input, m+1, n,dp)\n",
    "            dp[m+1][n]=k1\n",
    "        else:\n",
    "            k1=dp[m+1][n]\n",
    "    if n<nCols-1:\n",
    "        if dp[m][n+1]==-1:\n",
    "            k2=minCostPath(input, m, n+1,dp)\n",
    "            dp[m][n+1]=k2\n",
    "        else:\n",
    "            k2=dp[m][n+1]    \n",
    "    if m<mRows-1 and n<nCols-1:\n",
    "        if dp[m+1][n+1]==-1:\n",
    "            k3=minCostPath(input, m+1, n+1,dp)\n",
    "            dp[m+1][n+1]=k3\n",
    "        else:\n",
    "            k3=dp[m+1][n+1]\n",
    "        \n",
    "    if min(k1,k2,k3)==MAX_VALUE:\n",
    "        return input[m][n]\n",
    "\n",
    "    return input[m][n]+min(k1,k2,k3)\n",
    "\n",
    "mat, mRows, nCols = take2DInput()\n",
    "dp=[]\n",
    "for i in range(mRows+1):\n",
    "    dp.append([-1]*(nCols+1))\n",
    "print(minCostPath(mat, 0, 0,dp))"
   ]
  },
  {
   "cell_type": "code",
   "execution_count": 1,
   "metadata": {},
   "outputs": [
    {
     "name": "stdout",
     "output_type": "stream",
     "text": [
      "acbgfh\n",
      "bvavcbhfh\n",
      "5\n"
     ]
    }
   ],
   "source": [
    "'''Given two strings, S and T with lengths M and N, find the length of the 'Longest Common Subsequence'.\n",
    "For a string 'str'(per se) of length K, the subsequences are the strings containing characters in the \n",
    "same relative order as they are present in 'str,' but not necessarily contiguous.Subsequences contain all \n",
    "the strings of length varying from 0 to K.'''\n",
    "'''Recursive Approach'''\n",
    "def lcs(str1,str2,i,j):\n",
    "    if i==len(str1) or j==len(str2):\n",
    "        return 0\n",
    "    if str1[i]==str2[j]:\n",
    "        ans=1+lcs(str1,str2,i+1,j+1)\n",
    "    else:\n",
    "        ans=max(lcs(str1,str2,i,j+1),lcs(str1,str2,i+1,j))\n",
    "    return ans\n",
    "str1=input()\n",
    "str2=input()\n",
    "print(lcs(str1,str2,0,0))"
   ]
  },
  {
   "cell_type": "code",
   "execution_count": 2,
   "metadata": {},
   "outputs": [
    {
     "data": {
      "text/plain": [
       "5"
      ]
     },
     "execution_count": 2,
     "metadata": {},
     "output_type": "execute_result"
    }
   ],
   "source": [
    "'''DP Memoization'''\n",
    "def lcsdp(str1,str2,i,j,dp):\n",
    "    if i==len(str1) or j==len(str2):\n",
    "        dp[i][j]=0\n",
    "        return dp[i][j]\n",
    "    if str1[i]==str2[j]:\n",
    "        if dp[i+1][j+1]!=-1:\n",
    "            ans=1+dp[i+1][j+1]\n",
    "        else:\n",
    "            dp[i+1][j+1]=lcsdp(str1,str2,i+1,j+1,dp)\n",
    "            ans=1+dp[i+1][j+1]\n",
    "    else:\n",
    "        if dp[i][j+1]!=-1:\n",
    "            ans1=dp[i][j+1]\n",
    "        else:\n",
    "            dp[i][j+1]=lcsdp(str1,str2,i,j+1,dp)\n",
    "            ans1=dp[i][j+1]\n",
    "        if dp[i+1][j]!=-1:\n",
    "            ans2=dp[i+1][j]\n",
    "        else:\n",
    "            dp[i+1][j]=lcsdp(str1,str2,i+1,j,dp)\n",
    "            ans2=dp[i+1][j]\n",
    "        ans=max(ans1,ans2) \n",
    "    return ans\n",
    "dp=[]\n",
    "n=len(str1)\n",
    "m=len(str2)\n",
    "for i in range(n+1):\n",
    "    dp.append([-1]*(m+1))\n",
    "lcsdp(str1,str2,0,0,dp)"
   ]
  },
  {
   "cell_type": "code",
   "execution_count": 3,
   "metadata": {},
   "outputs": [
    {
     "name": "stdout",
     "output_type": "stream",
     "text": [
      "5\n"
     ]
    }
   ],
   "source": [
    "'''Iterative DP Solution'''\n",
    "def iter_lcs(str1,str2):\n",
    "    n=len(str1)\n",
    "    m=len(str2)\n",
    "    mx=0\n",
    "    dp=[]\n",
    "    for i in range(n+1):\n",
    "        dp.append([0]*(m+1))\n",
    "    for i in range(n-1,-1,-1):\n",
    "        for j in range(m-1,-1,-1):\n",
    "            if str1[i]==str2[j]:\n",
    "                dp[i][j]=1+dp[i+1][j+1]\n",
    "                if mx<dp[i][j]:\n",
    "                    mx=dp[i][j]\n",
    "            else:\n",
    "                dp[i][j]=max(dp[i][j+1],dp[i+1][j])\n",
    "                if mx<dp[i][j]:\n",
    "                    mx=dp[i][j]\n",
    "    return mx\n",
    "    \n",
    "print(iter_lcs(str1,str2))    "
   ]
  },
  {
   "cell_type": "code",
   "execution_count": 1,
   "metadata": {},
   "outputs": [
    {
     "name": "stdout",
     "output_type": "stream",
     "text": [
      "51\n"
     ]
    }
   ],
   "source": [
    "'''Knapsack Problem\n",
    "   A thief robbing a store can carry a maximal weight of W into his knapsack. There are N items, and i-th \n",
    "   item weigh 'Wi' and the value being 'Vi.'What would be the maximum value V, that the thief can steal?'''\n",
    "def knapsack_rec(mxw,val,w,n,i=0):\n",
    "    if i==n:\n",
    "        return 0\n",
    "    if w[i]>mxw:\n",
    "        myans=knapsack_rec(mxw,val,w,n,i+1)\n",
    "    else:\n",
    "        myans=val[i]+knapsack_rec(mxw-w[i],val,w,n,i+1)\n",
    "        myans=max(myans,knapsack_rec(mxw,val,w,n,i+1))\n",
    "    return myans\n",
    "    \n",
    "w=[12 ,7, 11 ,8 ,9]\n",
    "val=[24 ,13 ,23, 15, 16]\n",
    "n=len(val)\n",
    "mxw=26\n",
    "print(knapsack_rec(mxw,val,w,n))"
   ]
  },
  {
   "cell_type": "code",
   "execution_count": 36,
   "metadata": {},
   "outputs": [
    {
     "name": "stdout",
     "output_type": "stream",
     "text": [
      "51\n"
     ]
    }
   ],
   "source": [
    "'''DP Memoization'''\n",
    "def knapsack_dpm(mxw,val,w,n,dp,i):\n",
    "    if i>=n or mxw<=0:\n",
    "        return 0\n",
    "    if w[i]>mxw:\n",
    "        if dp[i+1][mxw]==-1:\n",
    "            myans=knapsack_dpm(mxw,val,w,n,dp,i+1)\n",
    "            dp[i+1][mxw]=myans\n",
    "        else:\n",
    "            myans=dp[i+1][mxw]\n",
    "    else:\n",
    "        if dp[i+1][mxw]==-1:\n",
    "            myans1=knapsack_dpm(mxw,val,w,n,dp,i+1)\n",
    "            dp[i+1][mxw]=myans1\n",
    "        else:\n",
    "            myans1=dp[i+1][mxw]\n",
    "        if dp[i+1][mxw-w[i]]==-1:\n",
    "            dp[i+1][mxw-w[i]]=knapsack_dpm(mxw-w[i],val,w,n,dp,i+1)\n",
    "            myans2=val[i]+dp[i+1][mxw-w[i]]\n",
    "        else:\n",
    "            myans2=val[i]+dp[i+1][mxw-w[i]]\n",
    "        myans=max(myans1,myans2)\n",
    "    dp[i][mxw]=myans    \n",
    "    return myans \n",
    "dp=[[-1 for i in range(mxw+1)] for j in range(n+1)]\n",
    "k=knapsack_dpm(mxw,val,w,n,dp,0)\n",
    "print(k)"
   ]
  },
  {
   "cell_type": "code",
   "execution_count": 38,
   "metadata": {},
   "outputs": [
    {
     "name": "stdout",
     "output_type": "stream",
     "text": [
      "51\n"
     ]
    }
   ],
   "source": [
    "'''DP Iterative Solution'''\n",
    "def knapsack(mxw,val,wt,n):\n",
    "    dp=[[0 for j in range(mxw+1)] for i in range(n+1)]\n",
    "    for i in range(1,n+1):\n",
    "        for j in range(1,mxw+1):\n",
    "            if j<wt[i-1]:\n",
    "                ans=dp[i-1][j]\n",
    "            else:\n",
    "                ans1=val[i-1]+dp[i-1][j-wt[i-1]]\n",
    "                ans2=dp[i-1][j]\n",
    "                ans=max(ans1,ans2)\n",
    "            dp[i][j]=ans\n",
    "    return dp[n][mxw]\n",
    "print(knapsack( mxw, val,w,n))"
   ]
  },
  {
   "cell_type": "code",
   "execution_count": 1,
   "metadata": {},
   "outputs": [
    {
     "name": "stdout",
     "output_type": "stream",
     "text": [
      "5\n",
      "5 4 11 1 16 8\n",
      "3\n"
     ]
    }
   ],
   "source": [
    "'''Given an array with N elements, you need to find the length of the longest subsequence in the given \n",
    "array such that all elements of the subsequence are sorted in strictly increasing order.'''\n",
    "''' DP Memoization'''\n",
    "def lis(li,i,n,dp):\n",
    "    if i==n:\n",
    "        return 0,0\n",
    "    inc_max=1\n",
    "    for j in range(i+1,n):\n",
    "        if li[j]>li[i]:\n",
    "            if dp[j]==-1:\n",
    "                ans=lis(li,j,n,dp)\n",
    "                dp[j]=ans\n",
    "                fur_inc_max=ans[0]\n",
    "            else:\n",
    "                fur_inc_max = dp[j][0]\n",
    "            inc_max=max(inc_max,1+fur_inc_max)\n",
    "    if dp[i+1]==-1:\n",
    "        ans=lis(li,i+1,n,dp)\n",
    "        dp[i+1]=ans\n",
    "        exc_max=ans[1]\n",
    "    else:\n",
    "        exc_max=dp[i+1][1]\n",
    "    overallmax=max(inc_max,exc_max)\n",
    "    return inc_max,overallmax\n",
    "n=int(input())\n",
    "arr=list(map(int,input().split()))\n",
    "dp=[-1 for i in range(n+1)]\n",
    "print(lis(arr,0,n,dp)[1])"
   ]
  }
 ],
 "metadata": {
  "kernelspec": {
   "display_name": "Python 3",
   "language": "python",
   "name": "python3"
  },
  "language_info": {
   "codemirror_mode": {
    "name": "ipython",
    "version": 3
   },
   "file_extension": ".py",
   "mimetype": "text/x-python",
   "name": "python",
   "nbconvert_exporter": "python",
   "pygments_lexer": "ipython3",
   "version": "3.7.7"
  }
 },
 "nbformat": 4,
 "nbformat_minor": 4
}
