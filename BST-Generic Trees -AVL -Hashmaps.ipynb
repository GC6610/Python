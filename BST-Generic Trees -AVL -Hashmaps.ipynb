{
 "cells": [
  {
   "cell_type": "markdown",
   "metadata": {},
   "source": [
    "<h3>Content List</h3>\n",
    "<ul><li>Binary Search Trees</li>\n",
    "    <li>Generic Trees</li>\n",
    "    <li>AVL Trees</li>\n",
    "    <li>Hashmaps</li></ul>"
   ]
  },
  {
   "cell_type": "markdown",
   "metadata": {},
   "source": [
    "<h3>Binary Search Trees</h3>"
   ]
  },
  {
   "cell_type": "code",
   "execution_count": 1,
   "metadata": {},
   "outputs": [],
   "source": [
    "import queue\n",
    "class BTnode:\n",
    "    def __init__(self, data):\n",
    "        self.data = data\n",
    "        self.lchild = None\n",
    "        self.rchild = None\n"
   ]
  },
  {
   "cell_type": "code",
   "execution_count": 2,
   "metadata": {},
   "outputs": [],
   "source": [
    "'''For taking levelorder input only if a the list is sorted '''\n",
    "def levelwiseBTList(l):\n",
    "    q=queue.Queue()\n",
    "    k=l.get()\n",
    "    if k==-1:\n",
    "        return None\n",
    "    else:\n",
    "        root=BTnode(k)\n",
    "    q.put(root)  \n",
    "    while not(q.empty()):\n",
    "        a=q.get() \n",
    "        ldata=l.get()\n",
    "        if ldata!=-1:            \n",
    "            a.lchild=BTnode(ldata)\n",
    "            q.put(a.lchild)\n",
    "        rdata=l.get()\n",
    "        if rdata!=-1:\n",
    "            \n",
    "            a.rchild=BTnode(rdata)\n",
    "            q.put(a.rchild)\n",
    "    return root\n"
   ]
  },
  {
   "cell_type": "code",
   "execution_count": 9,
   "metadata": {},
   "outputs": [],
   "source": [
    "'''For printing a BST'''\n",
    "def print_BTree(root):\n",
    "    if root==None:\n",
    "        return\n",
    "    print(root.data,end=\" : \")\n",
    "    if root.lchild!=None:\n",
    "        print('L',root.lchild.data,end=\" \")\n",
    "    if root.rchild!=None:\n",
    "        print('R',root.rchild.data,end=' ')\n",
    "    print()\n",
    "    print_BTree(root.lchild)  \n",
    "    print_BTree(root.rchild)"
   ]
  },
  {
   "cell_type": "code",
   "execution_count": 18,
   "metadata": {},
   "outputs": [
    {
     "name": "stdout",
     "output_type": "stream",
     "text": [
      "8 5 10 2 6 -1 -1 -1 -1 -1 7 -1 -1\n",
      "5\n",
      "True\n"
     ]
    }
   ],
   "source": [
    "def searchInBST(root, k):\n",
    "    if root==None:\n",
    "        return False\n",
    "    if k==root.data:\n",
    "        return True\n",
    "    elif k>=root.data:\n",
    "        return searchInBST(root.rchild,k)\n",
    "    elif k<root.data:\n",
    "        return searchInBST(root.lchild,k)\n",
    "\n",
    "l=queue.Queue()\n",
    "myelems=list(map(int,input().split()))\n",
    "for elem in myelems:\n",
    "    l.put(elem)\n",
    "BSTroot1=levelwiseBTList(l)\n",
    "k=int(input())\n",
    "print(searchInBST(BSTroot1, k))#"
   ]
  },
  {
   "cell_type": "code",
   "execution_count": 5,
   "metadata": {},
   "outputs": [
    {
     "name": "stdout",
     "output_type": "stream",
     "text": [
      "5 6 7 8 "
     ]
    }
   ],
   "source": [
    "'''Given a Binary Search Tree and two integers k1 and k2, find and print the elements which are in range k1 and k2 (both inclusive).\n",
    "Print the elements in increasing order. '''\n",
    "def elementsInRangeK1K2(root, k1, k2):\n",
    "    if root==None:\n",
    "        return\n",
    "    \n",
    "    if k1<=root.data:\n",
    "        elementsInRangeK1K2(root.lchild,k1,k2)\n",
    "    if root.data>=k1 and root.data<=k2:\n",
    "        print(root.data,end=' ')\n",
    "    if k2>=root.data:\n",
    "        elementsInRangeK1K2(root.rchild,k1,k2)\n",
    "elementsInRangeK1K2(BSTroot1, 5, 9)"
   ]
  },
  {
   "cell_type": "code",
   "execution_count": 6,
   "metadata": {},
   "outputs": [
    {
     "name": "stdout",
     "output_type": "stream",
     "text": [
      "1 2 3 4 5 6 7\n",
      "4 : L 2 R 6 \n",
      "2 : L 1 R 3 \n",
      "1 : \n",
      "3 : \n",
      "6 : L 5 R 7 \n",
      "5 : \n",
      "7 : \n"
     ]
    }
   ],
   "source": [
    "'''Given a sorted integer array A of size n, which contains all unique elements.\n",
    "You need to construct a balanced BST from this input array. Return the root of constructed BST.'''\n",
    "def constructBST(lst):\n",
    "    n=len(lst)\n",
    "    if not(lst):\n",
    "        return None\n",
    "    if n%2!=0:\n",
    "        mid=n//2\n",
    "    else:\n",
    "        mid=(n//2)-1\n",
    "    \n",
    "    root=BTnode(lst[mid])\n",
    "    root.lchild=constructBST(lst[:mid])\n",
    "    root.rchild=constructBST(lst[mid+1:])\n",
    "    return root\n",
    "lst=list(map(int,input().split()))\n",
    "print_BTree(constructBST(lst))"
   ]
  },
  {
   "cell_type": "code",
   "execution_count": 12,
   "metadata": {},
   "outputs": [
    {
     "name": "stdout",
     "output_type": "stream",
     "text": [
      "True\n"
     ]
    }
   ],
   "source": [
    "'''Program to check if a tree is BST '''\n",
    "def minima(root):\n",
    "    if root==None:\n",
    "        return 10000000\n",
    "    minl=minima(root.lchild)\n",
    "    minr=minima(root.rchild)\n",
    "    return min(root.data,minl,minr)\n",
    "def maxima(root):\n",
    "    if root==None:\n",
    "        return -10000000\n",
    "    maxl=maxima(root.lchild)\n",
    "    maxr=maxima(root.rchild)\n",
    "    return max(root.data,maxl,maxr)\n",
    "\n",
    "def checkBST(root):\n",
    "    if root==None:\n",
    "        return True\n",
    "    leftmax=maxima(root.lchild)\n",
    "    rightmin=minima(root.rchild)\n",
    "    if root.data>rightmin or root.data<leftmax:\n",
    "        return False\n",
    "    isleftbst=checkBST(root.lchild)\n",
    "    isrightbst=checkBST(root.rchild)\n",
    "    return isleftbst and isrightbst\n",
    "print(checkBST(BSTroot1))\n",
    "    \n",
    "        \n",
    "    "
   ]
  },
  {
   "cell_type": "code",
   "execution_count": 2,
   "metadata": {},
   "outputs": [],
   "source": [
    "'''One more solution :if the inorder traversal is in ascending order it is BST(also if there are any duplicate elements it is not bst)'''\n",
    "class op:\n",
    "    def __init__(self):\n",
    "        self.inorderlist=[]\n",
    "    def inorder(self,root):\n",
    "        if root:\n",
    "            self.inorder(root.lchild)\n",
    "            self.inorderlist.append(root.data)\n",
    "            self.inorder(root.rchild)\n",
    "def check_binary_search_tree_(root):\n",
    "    s=op()\n",
    "    s.inorder(root)\n",
    "    #print(s.inorderlist)\n",
    "    n=len(s.inorderlist)\n",
    "    for i in range(n-1):\n",
    "        if s.inorderlist[i]>=s.inorderlist[i+1]:\n",
    "            return False\n",
    "    return True"
   ]
  },
  {
   "cell_type": "code",
   "execution_count": 14,
   "metadata": {},
   "outputs": [
    {
     "name": "stdout",
     "output_type": "stream",
     "text": [
      "5\n",
      "1:R:5\n",
      "5:L:3,R:9\n",
      "3:L:2,\n",
      "2:\n",
      "9:\n",
      "4\n",
      "1:R:9\n",
      "9:L:3,\n",
      "3:L:2,\n",
      "2:\n"
     ]
    }
   ],
   "source": [
    "def minValueNode(root):\n",
    "    curr=root\n",
    "    if curr==None:\n",
    "        return None\n",
    "    while curr.lchild!=None:\n",
    "        curr=curr.lchild\n",
    "    return curr\n",
    "def deleteNode(root, key):\n",
    "    if root is None:\n",
    "        return root\n",
    "    if key < root.data:\n",
    "        root.lchild= deleteNode(root.lchild, key)\n",
    "    elif(key > root.data):\n",
    "        root.rchild = deleteNode(root.rchild, key)\n",
    "    else: \n",
    "        if root.lchild is None:\n",
    "            temp = root.rchild\n",
    "            root = None\n",
    "            return temp\n",
    "        elif root.rchild is None:\n",
    "            temp = root.lchild\n",
    "            root = None\n",
    "            return temp\n",
    "        temp = minValueNode(root.rchild)\n",
    "        root.data = temp.data\n",
    "        root.rchild = deleteNode(root.rchild, temp.data)\n",
    "    return root\n",
    "class bst:\n",
    "    def __init__(self):\n",
    "        self.root = None\n",
    "        self.num_nodes = 0\n",
    "    def searchhelper(self,root,data):\n",
    "        if root==None:\n",
    "            return False\n",
    "        if root.data==data:\n",
    "            return True\n",
    "        elif root.data<data:\n",
    "            return self.searchhepler(root.lchild,data)\n",
    "        return self.searchhelper(root.rchild,data)\n",
    "        \n",
    "    def search(self,data):\n",
    "        return self.searchhelper(self.root,data)\n",
    "    \n",
    "    def inserthelper(self,root,data):\n",
    "        if root==None:\n",
    "            return BTnode(data)\n",
    "        if root.data==data:#Duplicate elements not allowed\n",
    "            self.inserted=False\n",
    "            return root\n",
    "        elif root.data>data:\n",
    "            root.lchild=self.inserthelper(root.lchild,data)\n",
    "        elif root.data<data:\n",
    "            root.rchild=self.inserthelper(root.rchild,data)\n",
    "        return root             \n",
    "    def insert(self,data):\n",
    "        self.inserted=True\n",
    "        self.root=self.inserthelper(self.root,data)\n",
    "        if self.inserted:#If the element was already present then size nodes count won't be increased\n",
    "            self.num_nodes+=1\n",
    "    \n",
    "           \n",
    "    def delete(self,data):\n",
    "        \n",
    "        self.root=deleteNode(self.root,data)\n",
    "        self.num_nodes-=1\n",
    "        \n",
    "    def PrintlevelwiseBT(self,root):\n",
    "        if root==None:\n",
    "            return\n",
    "        print(root.data,end=':')\n",
    "        if root.lchild!=None:\n",
    "            print('L:'+str(root.lchild.data),end=',')\n",
    "        if root.rchild!=None:\n",
    "            print('R:'+str(root.rchild.data))\n",
    "        else:\n",
    "            print()\n",
    "        self.PrintlevelwiseBT(root.lchild)\n",
    "        self.PrintlevelwiseBT(root.rchild)\n",
    "    def printTree(self):\n",
    "        self.PrintlevelwiseBT(self.root)\n",
    "    def nodescount(self):\n",
    "        print(self.num_nodes)\n",
    "Btree=bst()\n",
    "Btree.insert(1)\n",
    "Btree.insert(5)\n",
    "Btree.insert(9)\n",
    "Btree.insert(3)\n",
    "Btree.insert(2)\n",
    "Btree.insert(2)\n",
    "Btree.nodescount()\n",
    "Btree.printTree()\n",
    "\n",
    "Btree.delete(5)\n",
    "Btree.nodescount()\n",
    "Btree.printTree()\n"
   ]
  },
  {
   "cell_type": "code",
   "execution_count": 20,
   "metadata": {},
   "outputs": [
    {
     "name": "stdout",
     "output_type": "stream",
     "text": [
      "5\n"
     ]
    }
   ],
   "source": [
    "'''LCA for a bst'''\n",
    "def lca(root, v1, v2):\n",
    "  #Enter your code here\n",
    "  if v1<=root.data and v2>=root.data:\n",
    "    return root\n",
    "  elif v1>=root.data and v2<=root.data:\n",
    "    return root\n",
    "  elif v1<root.data:\n",
    "    return lca(root.lchild,v1,v2)\n",
    "  elif v1>root.data:\n",
    "    return lca(root.rchild,v1,v2)\n",
    "\n",
    "node=lca(BSTroot1, 2, 7)\n",
    "print(node.data)"
   ]
  },
  {
   "cell_type": "markdown",
   "metadata": {},
   "source": [
    "<h3>Generic Trees<h3>"
   ]
  },
  {
   "cell_type": "code",
   "execution_count": 3,
   "metadata": {},
   "outputs": [],
   "source": [
    "class GenTreenode:\n",
    "    def __init__(self,data):\n",
    "        self.data=data\n",
    "        self.children=[]"
   ]
  },
  {
   "cell_type": "code",
   "execution_count": 16,
   "metadata": {},
   "outputs": [
    {
     "name": "stdout",
     "output_type": "stream",
     "text": [
      "root value :5\n",
      "No of nodes for  5: 4\n",
      "root value :2\n",
      "No of nodes for  2: 0\n",
      "root value :9\n",
      "No of nodes for  9: 2\n",
      "root value :15\n",
      "No of nodes for  15: 0\n",
      "root value :1\n",
      "No of nodes for  1: 0\n",
      "root value :8\n",
      "No of nodes for  8: 0\n",
      "root value :7\n",
      "No of nodes for  7: 0\n"
     ]
    }
   ],
   "source": [
    "'''Taking input '''\n",
    "def inputgen():\n",
    "    print('root value ',end=':')\n",
    "    k=int(input())\n",
    "    if k==-1:\n",
    "        return None\n",
    "    root=GenTreenode(k)\n",
    "    print('No of nodes for ',k,end=': ')\n",
    "    no_of_child=int(input())\n",
    "    for i in range(no_of_child):\n",
    "        child=inputgen()\n",
    "        root.children.append(child)\n",
    "    return root\n",
    "root=inputgen()"
   ]
  },
  {
   "cell_type": "code",
   "execution_count": 17,
   "metadata": {},
   "outputs": [
    {
     "name": "stdout",
     "output_type": "stream",
     "text": [
      "5:2,9,8,7,\n",
      "2:\n",
      "9:15,1,\n",
      "15:\n",
      "1:\n",
      "8:\n",
      "7:\n"
     ]
    }
   ],
   "source": [
    "def printgentree(root):\n",
    "    if root==None:\n",
    "        return\n",
    "    print(root.data,end=':')\n",
    "    for i in root.children:\n",
    "        print(i.data,end=',')\n",
    "    print()\n",
    "    for i in root.children:\n",
    "        printgentree(i)\n",
    "printgentree(root)"
   ]
  },
  {
   "cell_type": "code",
   "execution_count": 30,
   "metadata": {},
   "outputs": [
    {
     "data": {
      "text/plain": [
       "7"
      ]
     },
     "execution_count": 30,
     "metadata": {},
     "output_type": "execute_result"
    }
   ],
   "source": [
    "def numnodes(root,c):\n",
    "    if root==None:\n",
    "        return 0\n",
    "    c=1\n",
    "    for i in root.children:\n",
    "        \n",
    "        c+=numnodes(i,c)\n",
    "    return c\n",
    "numnodes(root,0)    "
   ]
  },
  {
   "cell_type": "code",
   "execution_count": 35,
   "metadata": {},
   "outputs": [
    {
     "data": {
      "text/plain": [
       "47"
      ]
     },
     "execution_count": 35,
     "metadata": {},
     "output_type": "execute_result"
    }
   ],
   "source": [
    "def sumgentree(root):\n",
    "    if root==None:\n",
    "        return 0\n",
    "    s=root.data\n",
    "    for i in root.children:\n",
    "        s+=sumgentree(i)\n",
    "    return s\n",
    "sumgentree(root)"
   ]
  },
  {
   "cell_type": "code",
   "execution_count": 36,
   "metadata": {},
   "outputs": [
    {
     "data": {
      "text/plain": [
       "15"
      ]
     },
     "execution_count": 36,
     "metadata": {},
     "output_type": "execute_result"
    }
   ],
   "source": [
    "def maxdata(root):\n",
    "    if root==None:\n",
    "        return 0\n",
    "    mxd=root.data\n",
    "    for i in root.children:\n",
    "        m1=maxdata(i)\n",
    "        if m1>mxd:\n",
    "            mxd=m1\n",
    "            \n",
    "    return mxd\n",
    "maxdata(root)"
   ]
  },
  {
   "cell_type": "code",
   "execution_count": 38,
   "metadata": {},
   "outputs": [
    {
     "name": "stdout",
     "output_type": "stream",
     "text": [
      "True\n",
      "False\n"
     ]
    }
   ],
   "source": [
    "def containsX(root, x):\n",
    "    if root==None:\n",
    "        return False\n",
    "    if root.data==x:\n",
    "        return True \n",
    "    \n",
    "    for i in root.children:\n",
    "        if containsX(i,x):\n",
    "            return True\n",
    "    return False\n",
    "print(containsX(root,15))\n",
    "print(containsX(root,20))"
   ]
  },
  {
   "cell_type": "code",
   "execution_count": 40,
   "metadata": {},
   "outputs": [
    {
     "data": {
      "text/plain": [
       "5"
      ]
     },
     "execution_count": 40,
     "metadata": {},
     "output_type": "execute_result"
    }
   ],
   "source": [
    "def leafcount(root):\n",
    "    if root==None:\n",
    "        return\n",
    "    if root.children==[]:\n",
    "        return 1\n",
    "    c=0\n",
    "    for i in root.children:\n",
    "        c+=leafcount(i)\n",
    "    return c\n",
    "leafcount(root)"
   ]
  },
  {
   "cell_type": "code",
   "execution_count": 42,
   "metadata": {},
   "outputs": [
    {
     "name": "stdout",
     "output_type": "stream",
     "text": [
      "Node\\parent value is 5 sum is 26\n"
     ]
    }
   ],
   "source": [
    "'''To find the node with sumof its children maximum'''\n",
    "def maxSumNode(root):\n",
    "    if root==None:\n",
    "        return 0\n",
    "    s=sum([j.data for j in root.children ])\n",
    "    nv=root\n",
    "    for i in root.children:\n",
    "        r,sm=maxSumNode(i)\n",
    "        if sm>s:\n",
    "            nv=r\n",
    "            s=sm\n",
    "    return nv,s\n",
    "node,maxsum=maxSumNode(root)\n",
    "print('Node\\parent value is',node.data,'sum is',maxsum)"
   ]
  },
  {
   "cell_type": "code",
   "execution_count": 43,
   "metadata": {},
   "outputs": [],
   "source": [
    "'''Two compare two generic trees and tell if they are identical or not'''\n",
    "def isIdentical(tree1, tree2):\n",
    "    if tree1.data!=tree2.data:\n",
    "        return False\n",
    "    n1=len(tree1.children)\n",
    "    n2=len(tree1.children)\n",
    "    i=0\n",
    "    if n1!=n2:\n",
    "        return False\n",
    "    while i<n1:\n",
    "        if not(isIdentical(tree1.children[i],tree2.children[i])):\n",
    "            return False\n",
    "    return True"
   ]
  },
  {
   "cell_type": "code",
   "execution_count": 46,
   "metadata": {},
   "outputs": [
    {
     "name": "stdout",
     "output_type": "stream",
     "text": [
      "7\n"
     ]
    }
   ],
   "source": [
    "'''Program to print the next largest value than n in the tree'''\n",
    "def nextLargest(root,n):\n",
    "    if root==None:\n",
    "        return 0\n",
    "    cd=100000\n",
    "    rn=None\n",
    "    if root.data>n:\n",
    "        cd=root.data-n\n",
    "        rn=root   \n",
    "    for i in root.children:\n",
    "        r,sm=nextLargest(i,n)\n",
    "        if sm<cd:\n",
    "            cd=sm\n",
    "            rn=r\n",
    "    return rn,cd\n",
    "node,diff=nextLargest(root,6)\n",
    "print(node.data)"
   ]
  },
  {
   "cell_type": "code",
   "execution_count": 47,
   "metadata": {},
   "outputs": [],
   "source": [
    "def replacewithDepth(root,c=0):\n",
    "    if root==None:\n",
    "        return\n",
    "    root.data=c\n",
    "    for i in root.children:\n",
    "        replacewithDepth(i,c+1)\n",
    "    "
   ]
  },
  {
   "cell_type": "code",
   "execution_count": 5,
   "metadata": {},
   "outputs": [
    {
     "name": "stdout",
     "output_type": "stream",
     "text": [
      "10 3 20 30 40 2 40 50 0 0 0 0 \n"
     ]
    }
   ],
   "source": [
    "'''For taking levelwise input for a generic tree'''\n",
    "def inputLevelWise(li) :\n",
    "    i = 0\n",
    "    root_data = li[i] \n",
    "    i += 1\n",
    "    if root_data == -1 :\n",
    "        return None\n",
    "    root = GenTreenode(root_data) \n",
    "    q = queue.Queue()\n",
    "    q.put(root)\n",
    "    while (not q.empty()) :\n",
    "        frontNode = q.get()\n",
    "        noOfChildren = li[i]\n",
    "        i += 1\n",
    "        childrenArray = li[i : i+noOfChildren]\n",
    "        for childData in childrenArray :\n",
    "            childNode = GenTreenode(childData)\n",
    "            frontNode.children.append(childNode)\n",
    "            q.put(childNode)\n",
    "        i = i+noOfChildren\n",
    "    return root\n",
    "genroot=inputLevelWise(list(map(int,input().split())))"
   ]
  },
  {
   "cell_type": "code",
   "execution_count": 6,
   "metadata": {},
   "outputs": [
    {
     "data": {
      "text/plain": [
       "3"
      ]
     },
     "execution_count": 6,
     "metadata": {},
     "output_type": "execute_result"
    }
   ],
   "source": [
    "\n",
    "def heighttree(root,h=1):\n",
    "    if root==None:\n",
    "        return 0\n",
    "    mx=h\n",
    "    for i in root.children:\n",
    "        h1=heighttree(i,h+1)\n",
    "        if h1>mx:\n",
    "            mx=h1\n",
    "    return mx\n",
    "heighttree(genroot)"
   ]
  },
  {
   "cell_type": "code",
   "execution_count": 7,
   "metadata": {},
   "outputs": [
    {
     "name": "stdout",
     "output_type": "stream",
     "text": [
      "10:20,30,40\n",
      "20:40,50\n",
      "30:\n",
      "40:\n",
      "40:\n",
      "50:\n"
     ]
    }
   ],
   "source": [
    "'''Print generic tree in levelwise order'''\n",
    "def printLevelWiseTree(root):\n",
    "    if root==None:\n",
    "        return\n",
    "    q=queue.Queue()\n",
    "    q.put(root)\n",
    "    while not(q.empty()):\n",
    "        a=q.get()\n",
    "        print(a.data,end=':')\n",
    "        n=len(a.children)\n",
    "        for i in range(n):\n",
    "            if i==n-1:\n",
    "                print(a.children[i].data,end='')\n",
    "            else:\n",
    "                print(a.children[i].data,end=',')\n",
    "            q.put(a.children[i])       \n",
    "        print()\n",
    "printLevelWiseTree(genroot)\n"
   ]
  },
  {
   "cell_type": "markdown",
   "metadata": {},
   "source": [
    "<h3>AVL Trees</h3>"
   ]
  },
  {
   "cell_type": "code",
   "execution_count": 1,
   "metadata": {},
   "outputs": [
    {
     "name": "stdout",
     "output_type": "stream",
     "text": [
      "10 : L 8 R 11 \n",
      "8 : L 7 R 9 \n",
      "7 : \n",
      "9 : \n",
      "11 : R 12 \n",
      "12 : R 13 \n",
      "13 : \n",
      "size of tree is  7\n",
      "11 : L 8 R 12 \n",
      "8 : R 9 \n",
      "9 : \n",
      "12 : \n",
      "size of tree is  3\n"
     ]
    }
   ],
   "source": [
    "class avlnode:\n",
    "    def __init__(self,val):\n",
    "        self.data=val\n",
    "        self.lchild=None\n",
    "        self.rchild=None\n",
    "        self.height=0\n",
    "\n",
    "class avltree:\n",
    "    \n",
    "    def __init__(self):\n",
    "        self.root=None\n",
    "        self.size=0\n",
    "            \n",
    "    def nodeheight(self,root):\n",
    "        if root:\n",
    "            return root.height\n",
    "        return 0\n",
    "    def rightrotation(self,root):\n",
    "        temp1=root.lchild.rchild\n",
    "        temp2=root\n",
    "        root=root.lchild\n",
    "        root.rchild=temp2\n",
    "        root.rchild.lchild=temp1\n",
    "        root.rchild.height=1+max(self.nodeheight(root.rchild.lchild),self.nodeheight(root.rchild.rchild))\n",
    "        root.height=1+max(self.nodeheight(root.lchild),self.nodeheight(root.rchild))\n",
    "        return root\n",
    "        \n",
    "    def leftrotation(self,root):\n",
    "        temp1=root\n",
    "        temp2=root.rchild.lchild\n",
    "        root=root.rchild\n",
    "        root.lchild=temp1\n",
    "        root.lchild.rchild=temp2\n",
    "        root.lchild.height=1+max(self.nodeheight(root.lchild.lchild),self.nodeheight(root.lchild.rchild))\n",
    "        root.height=1+max(self.nodeheight(root.lchild),self.nodeheight(root.rchild))\n",
    "        return root\n",
    "        \n",
    "    def minima(self,root):\n",
    "        curr=root\n",
    "        if curr==None:\n",
    "            return None\n",
    "        while curr.lchild!=None:\n",
    "            curr=curr.lchild\n",
    "        return curr  \n",
    "    def inserthelper(self,root,data):\n",
    "        if root==None:\n",
    "            self.size+=1\n",
    "            return avlnode(data)\n",
    "        elif root.data>data:\n",
    "            root.lchild=self.inserthelper(root.lchild,data) \n",
    "        else:\n",
    "            root.rchild=self.inserthelper(root.rchild,data) \n",
    "        root.height=1+max(self.nodeheight(root.lchild),self.nodeheight(root.rchild))\n",
    "        bal_factor=self.nodeheight(root.lchild)-self.nodeheight(root.rchild)\n",
    "        if bal_factor>1 and data<root.data:\n",
    "            return self.rightrotation(root)\n",
    "        if bal_factor>1 and data>root.data:\n",
    "            root.lchild = self.leftrotation(root.lchild)\n",
    "            return self.rightrotation(root)\n",
    "        if bal_factor<-1 and data<root.data:\n",
    "            root.rchild = self.leftrotation(root.rchild)\n",
    "            return self.rightrotation(root)\n",
    "        if bal_factor<-1 and data>root.data:\n",
    "            return self.leftrotation(root)\n",
    "            \n",
    "            \n",
    "        return root\n",
    "            \n",
    "    def insert(self,data):\n",
    "        self.root=self.inserthelper(self.root,data)\n",
    "        #self.size+=1\n",
    "    def searchhelper(self,root,data):\n",
    "        if root==None:\n",
    "            return False\n",
    "        if root.data==data:\n",
    "            return True\n",
    "        elif root.data>data:\n",
    "            self.k+=1\n",
    "            return self.searchhelper(root.lchild,data)\n",
    "        else:\n",
    "            self.k+=1\n",
    "            return self.searchhelper(root.rchild,data)\n",
    "    def search(self,data):\n",
    "        return self.searchhelper(self.root,data)\n",
    "    def deletehelper(self,root,data):\n",
    "        if root==None:\n",
    "            return \n",
    "        if root.data>data:\n",
    "            root.lchild=self.deletehelper(root.lchild,data)\n",
    "        elif root.data<data:\n",
    "            root.rchild=self.deletehelper(root.rchild,data)\n",
    "        else:\n",
    "            #equal so delete the node\n",
    "            self.size-=1\n",
    "            if root.lchild==None:\n",
    "                root=root.rchild\n",
    "                return root\n",
    "            elif root.rchild==None:\n",
    "                root=root.lchild\n",
    "                return root\n",
    "            temp=self.minima(root.rchild)\n",
    "            root.data=temp.data\n",
    "            root.rchild=self.deletehelper(root.rchild,temp.data)\n",
    "        #Checking if balanced or not\n",
    "        if not root:\n",
    "            return root\n",
    "        root.height=1+max(self.nodeheight(root.lchild),self.nodeheight(root.rchild))\n",
    "        bal_factor=self.nodeheight(root.lchild)-self.nodeheight(root.rchild)\n",
    "        if bal_factor>1 and data<root.data:\n",
    "            return self.rightrotation(root)\n",
    "        if bal_factor>1 and data>root.data:\n",
    "            root.lchild = self.leftrotation(root.lchild)\n",
    "            return self.rightrotation(root)\n",
    "        if bal_factor<-1 and data<root.data:\n",
    "            root.rchild = self.leftrotation(root.rchild)\n",
    "            return self.rightrotation(root)\n",
    "        if bal_factor<-1 and data>root.data:\n",
    "            return self.leftrotation(root)    \n",
    "        return root    \n",
    "            \n",
    "    def delete(self,data):\n",
    "        self.root=self.deletehelper(self.root,data)\n",
    "        #self.size-=1\n",
    "    def printavl(self,root):\n",
    "        if root==None:\n",
    "            return\n",
    "        print(root.data,end=\" : \")\n",
    "        if root.lchild!=None:\n",
    "            print('L',root.lchild.data,end=\" \")\n",
    "        if root.rchild!=None:\n",
    "            print('R',root.rchild.data,end=' ')\n",
    "        print()\n",
    "        self.printavl(root.lchild)  \n",
    "        self.printavl(root.rchild)\n",
    "    def print_AVL(self):\n",
    "        self.printavl(self.root)\n",
    "AVL=avltree()    \n",
    "AVL.insert(7)\n",
    "AVL.insert(8)\n",
    "AVL.insert(9)\n",
    "AVL.insert(10)\n",
    "AVL.insert(11)\n",
    "AVL.insert(12)\n",
    "AVL.insert(13)\n",
    "AVL.print_AVL()\n",
    "print('size of tree is ',AVL.size)\n",
    "AVL.delete(13)\n",
    "AVL.delete(7)\n",
    "AVL.delete(10)\n",
    "AVL.print_AVL()\n",
    "print('size of tree is ',AVL.size)"
   ]
  },
  {
   "cell_type": "markdown",
   "metadata": {},
   "source": [
    "<h3>HashMaps</h3>"
   ]
  },
  {
   "cell_type": "code",
   "execution_count": 4,
   "metadata": {},
   "outputs": [
    {
     "name": "stdout",
     "output_type": "stream",
     "text": [
      "node with value  0 and key 0 is deleted\n",
      "node with value  1 and key 1 is deleted\n",
      "node with value  4 and key 2 is deleted\n",
      "node with value  9 and key 3 is deleted\n",
      "node with value  16 and key 4 is deleted\n",
      "node with value  25 and key 5 is deleted\n",
      "node with value  36 and key 6 is deleted\n",
      "7 49\n",
      "8 64\n",
      "9 81\n",
      "10 100\n",
      "11 121\n",
      "12 144\n",
      "13 169\n",
      "14 196\n",
      "15 225\n",
      "16 256\n",
      "17 289\n",
      "18 324\n",
      "19 361\n"
     ]
    }
   ],
   "source": [
    "\n",
    "class mapnode:\n",
    "    def __init__(self,key,value):\n",
    "        self.key=key\n",
    "        self.value=value\n",
    "        self.next=None\n",
    "class map:\n",
    "    def __init__(self):\n",
    "        self.hasharraysize=10\n",
    "        self.hasharray=[None for i in range(self.hasharraysize)]\n",
    "        self.count=0\n",
    "    def getindex(self,hc):\n",
    "        return hc%(self.hasharraysize)\n",
    "    def loadfactor(self):\n",
    "        return self.count/self.hasharraysize\n",
    "    def rehash(self):\n",
    "        old=self.hasharray\n",
    "        self.hasharraysize*=2\n",
    "        self.hasharray=[None for i in range(self.hasharraysize)]\n",
    "        for i in old:\n",
    "            head=i\n",
    "            while head!=None:\n",
    "                self.insert(head.key,head.value)\n",
    "                head=head.next    \n",
    "        \n",
    "    def insert(self,key,value):\n",
    "        hc=hash(key)\n",
    "        idx=self.getindex(hc)\n",
    "        \n",
    "        head=self.hasharray[idx]\n",
    "        self.count+=1\n",
    "        while head!=None:\n",
    "            if head.key==key:\n",
    "                head.value=value\n",
    "                return\n",
    "            head=head.next\n",
    "        newnode=mapnode(key,value)\n",
    "        head=self.hasharray[idx]\n",
    "        newnode.next=head\n",
    "        self.hasharray[idx]=newnode\n",
    "        #print(newnode.key)\n",
    "        if self.loadfactor()>=0.7:\n",
    "            self.rehash()\n",
    "    def delete(self,key):\n",
    "        hc=hash(key)\n",
    "        idx=self.getindex(hc)\n",
    "        head=self.hasharray[idx]\n",
    "        \n",
    "        prev=None\n",
    "        while head!=None:\n",
    "            if head.key==key:\n",
    "                if prev==None:\n",
    "                    self.hasharray[idx]=head.next\n",
    "                else:\n",
    "                    prev.next=head.next\n",
    "                self.count-=1\n",
    "                return head.value\n",
    "                \n",
    "            prev=head\n",
    "            head=head.next\n",
    "    def printhmap(self):\n",
    "        for i in self.hasharray:\n",
    "            head=i\n",
    "            while head!=None:\n",
    "                print(head.key,head.value)\n",
    "                head=head.next                   \n",
    "H=map()       \n",
    "for i in range(20):\n",
    "    H.insert(i,i**2)\n",
    "for i in range(7):\n",
    "    print('node with value ',H.delete(i),'and key',i,'is deleted')\n",
    "H.printhmap()           "
   ]
  }
 ],
 "metadata": {
  "kernelspec": {
   "display_name": "Python 3",
   "language": "python",
   "name": "python3"
  },
  "language_info": {
   "codemirror_mode": {
    "name": "ipython",
    "version": 3
   },
   "file_extension": ".py",
   "mimetype": "text/x-python",
   "name": "python",
   "nbconvert_exporter": "python",
   "pygments_lexer": "ipython3",
   "version": "3.7.7"
  }
 },
 "nbformat": 4,
 "nbformat_minor": 4
}
